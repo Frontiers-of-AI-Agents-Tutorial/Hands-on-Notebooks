{
 "cells": [
  {
   "cell_type": "markdown",
   "metadata": {},
   "source": [
    "Blurb from proposal : In a multi-agent system individual agents with different personas can communicate, collaborate, add additional context, and do work in parallel. They often have special rules for how to work as a team, decide things together, and handle disagreements."
   ]
  },
  {
   "cell_type": "markdown",
   "metadata": {},
   "source": [
    "Disclaimer (We can Remove or modify this once we rename the agents to build on our complex usecase): This notebooks uses and explains code snippets from Autogen Official Docs to demonstrate various Multi-Agent Usecases along with important concepts. Please refer to https://microsoft.github.io/autogen/docs/ for information."
   ]
  },
  {
   "cell_type": "code",
   "execution_count": null,
   "metadata": {},
   "outputs": [],
   "source": [
    "#Install packages\n",
    "# !pip install pyautogen\n",
    "# !pip install openai\n",
    "# !pip install chroma==0.4.24"
   ]
  },
  {
   "cell_type": "code",
   "execution_count": 1,
   "metadata": {},
   "outputs": [],
   "source": [
    "import os\n",
    "import autogen\n",
    "from dotenv import load_dotenv\n",
    "\n",
    "load_dotenv()\n",
    "# Save your OPENAI_API_KEY in a .env file in the same directory as this script\n",
    "llm_config_dict = {\"config_list\": [{\"model\": \"gpt-3.5-turbo\", \"api_key\": os.environ[\"OPENAI_API_KEY\"]}]}"
   ]
  },
  {
   "cell_type": "code",
   "execution_count": null,
   "metadata": {},
   "outputs": [],
   "source": [
    "# Construct a Single Agent and Run it"
   ]
  },
  {
   "cell_type": "code",
   "execution_count": null,
   "metadata": {},
   "outputs": [],
   "source": []
  },
  {
   "cell_type": "code",
   "execution_count": null,
   "metadata": {},
   "outputs": [],
   "source": [
    "# Construct a Single Agent with Persona and Run it"
   ]
  },
  {
   "cell_type": "code",
   "execution_count": null,
   "metadata": {},
   "outputs": [],
   "source": []
  },
  {
   "cell_type": "code",
   "execution_count": null,
   "metadata": {},
   "outputs": [],
   "source": [
    "# Construct a Single Agent with a tool and a Persona and Run it"
   ]
  },
  {
   "cell_type": "code",
   "execution_count": null,
   "metadata": {},
   "outputs": [],
   "source": []
  },
  {
   "cell_type": "markdown",
   "metadata": {},
   "source": [
    "# Two-agent chat: the simplest form of conversation pattern where two agents chat with each other using Autogen."
   ]
  },
  {
   "cell_type": "code",
   "execution_count": 19,
   "metadata": {},
   "outputs": [
    {
     "name": "stdout",
     "output_type": "stream",
     "text": [
      "[autogen.oai.client: 09-20 15:16:07] {184} WARNING - The API key specified is not a valid OpenAI format; it won't work with the OpenAI-hosted model.\n",
      "[autogen.oai.client: 09-20 15:16:07] {184} WARNING - The API key specified is not a valid OpenAI format; it won't work with the OpenAI-hosted model.\n",
      "\u001b[33mStudent_Agent\u001b[0m (to Teacher_Agent):\n",
      "\n",
      "How to prove triangle inequality\n",
      "\n",
      "--------------------------------------------------------------------------------\n",
      "\u001b[31m\n",
      ">>>>>>>> USING AUTO REPLY...\u001b[0m\n",
      "\u001b[33mTeacher_Agent\u001b[0m (to Student_Agent):\n",
      "\n",
      "To prove the triangle inequality in geometry, you need to show that the sum of the lengths of any two sides of a triangle is always greater than the length of the third side. Let's say we have a triangle with sides a, b, and c.\n",
      "\n",
      "The triangle inequality states that:\n",
      "\n",
      "a + b > c\n",
      "a + c > b\n",
      "b + c > a\n",
      "\n",
      "To prove this, you can use the properties of triangles such as the fact that the sum of the lengths of any two sides of a triangle is always greater than the length of the third side. \n",
      "\n",
      "1. Consider a triangle with sides a, b, and c.\n",
      "2. Assume without loss of generality that c is the longest side, so c ≥ a and c ≥ b.\n",
      "3. In a triangle, the sum of any two sides must be greater than the third side. Therefore, a + b > c and a + c > b.\n",
      "4. By combining these two inequalities, we have a + b > c and a + c > b.\n",
      "5. This proves the triangle inequality.\n",
      "\n",
      "This proof establishes the fact that the sum of the lengths of any two sides of a triangle is always greater than the length of the third side, which is the triangle inequality.\n",
      "\n",
      "--------------------------------------------------------------------------------\n",
      "\u001b[31m\n",
      ">>>>>>>> USING AUTO REPLY...\u001b[0m\n",
      "\u001b[33mStudent_Agent\u001b[0m (to Teacher_Agent):\n",
      "\n",
      "I hope this explanation helps you understand how to prove the triangle inequality in geometry. If you have any more questions or need further clarification, feel free to ask!\n",
      "\n",
      "--------------------------------------------------------------------------------\n",
      "\u001b[31m\n",
      ">>>>>>>> USING AUTO REPLY...\u001b[0m\n",
      "\u001b[33mTeacher_Agent\u001b[0m (to Student_Agent):\n",
      "\n",
      "Thank you for the step-by-step explanation on how to prove the triangle inequality. I appreciate your help!\n",
      "\n",
      "--------------------------------------------------------------------------------\n"
     ]
    }
   ],
   "source": [
    "import os\n",
    "\n",
    "from autogen import ConversableAgent\n",
    "\n",
    "student_agent = ConversableAgent(\n",
    "    name=\"Student_Agent\",\n",
    "    system_message=\"You are a student willing to learn.\",\n",
    "    llm_config=llm_config_dict,\n",
    ")\n",
    "teacher_agent = ConversableAgent(\n",
    "    name=\"Teacher_Agent\",\n",
    "    system_message=\"You are a math teacher.\",\n",
    "    llm_config=llm_config_dict,\n",
    ")\n",
    "\n",
    "chat_result = student_agent.initiate_chat(\n",
    "    teacher_agent,\n",
    "    message=\"How to prove triangle inequality\",\n",
    "    summary_method=\"reflection_with_llm\",\n",
    "    max_turns=2,\n",
    ")"
   ]
  },
  {
   "cell_type": "markdown",
   "metadata": {},
   "source": [
    "Let's look at the summary. It is contained within the chat_result object of type ChatResult, which was returned by the initiate_chat method."
   ]
  },
  {
   "cell_type": "code",
   "execution_count": 20,
   "metadata": {},
   "outputs": [
    {
     "name": "stdout",
     "output_type": "stream",
     "text": [
      "The triangle inequality states that the sum of the lengths of any two sides of a triangle is always greater than the length of the third side. To prove this, you can use the properties of triangles and show that in a triangle, the sum of any two sides must be greater than the third side.\n"
     ]
    }
   ],
   "source": [
    "print(chat_result.summary)"
   ]
  },
  {
   "cell_type": "markdown",
   "metadata": {},
   "source": [
    "In the given example, the summary method is configured to reflection_with_llm, which processes a list of conversation messages and summarizes them by invoking an LLM. Initially, the summary method attempts to utilize the recipient’s LLM; if it is unavailable, it defaults to the sender’s LLM. Here, the recipient is “Teacher_Agent” and the sender is “Student_Agent”. The input prompt for the LLM is the following default prompt:"
   ]
  },
  {
   "cell_type": "code",
   "execution_count": 14,
   "metadata": {},
   "outputs": [
    {
     "name": "stdout",
     "output_type": "stream",
     "text": [
      "Summarize the takeaway from the conversation. Do not add any introductory phrases.\n"
     ]
    }
   ],
   "source": [
    "print(ConversableAgent.DEFAULT_SUMMARY_PROMPT)"
   ]
  },
  {
   "cell_type": "markdown",
   "metadata": {},
   "source": [
    "# Sequential chat: \n",
    "a series of conversations between two agents, linked by a carryover mechanism that transfers the summary of the prior chat to the context of the subsequent chat."
   ]
  },
  {
   "cell_type": "code",
   "execution_count": 17,
   "metadata": {},
   "outputs": [
    {
     "name": "stdout",
     "output_type": "stream",
     "text": [
      "[autogen.oai.client: 09-18 14:01:14] {184} WARNING - The API key specified is not a valid OpenAI format; it won't work with the OpenAI-hosted model.\n",
      "[autogen.oai.client: 09-18 14:01:14] {184} WARNING - The API key specified is not a valid OpenAI format; it won't work with the OpenAI-hosted model.\n",
      "[autogen.oai.client: 09-18 14:01:15] {184} WARNING - The API key specified is not a valid OpenAI format; it won't work with the OpenAI-hosted model.\n",
      "[autogen.oai.client: 09-18 14:01:15] {184} WARNING - The API key specified is not a valid OpenAI format; it won't work with the OpenAI-hosted model.\n",
      "[autogen.oai.client: 09-18 14:01:16] {184} WARNING - The API key specified is not a valid OpenAI format; it won't work with the OpenAI-hosted model.\n"
     ]
    }
   ],
   "source": [
    "# The Number Agent always returns the same numbers.\n",
    "number_agent = ConversableAgent(\n",
    "    name=\"Number_Agent\",\n",
    "    system_message=\"You return me the numbers I give you, one number each line.\",\n",
    "    llm_config=llm_config_dict,\n",
    "    human_input_mode=\"NEVER\",\n",
    ")\n",
    "\n",
    "# The Adder Agent adds 1 to each number it receives.\n",
    "adder_agent = ConversableAgent(\n",
    "    name=\"Adder_Agent\",\n",
    "    system_message=\"You add 1 to each number I give you and return me the new numbers, one number each line.\",\n",
    "    llm_config=llm_config_dict,\n",
    "    human_input_mode=\"NEVER\",\n",
    ")\n",
    "\n",
    "# The Multiplier Agent multiplies each number it receives by 2.\n",
    "multiplier_agent = ConversableAgent(\n",
    "    name=\"Multiplier_Agent\",\n",
    "    system_message=\"You multiply each number I give you by 2 and return me the new numbers, one number each line.\",\n",
    "    llm_config=llm_config_dict,\n",
    "    human_input_mode=\"NEVER\",\n",
    ")\n",
    "\n",
    "# The Subtracter Agent subtracts 1 from each number it receives.\n",
    "subtracter_agent = ConversableAgent(\n",
    "    name=\"Subtracter_Agent\",\n",
    "    system_message=\"You subtract 1 from each number I give you and return me the new numbers, one number each line.\",\n",
    "    llm_config=llm_config_dict,\n",
    "    human_input_mode=\"NEVER\",\n",
    ")\n",
    "\n",
    "# The Divider Agent divides each number it receives by 2.\n",
    "divider_agent = ConversableAgent(\n",
    "    name=\"Divider_Agent\",\n",
    "    system_message=\"You divide each number I give you by 2 and return me the new numbers, one number each line.\",\n",
    "    llm_config=llm_config_dict,\n",
    "    human_input_mode=\"NEVER\",\n",
    ")"
   ]
  },
  {
   "cell_type": "code",
   "execution_count": 18,
   "metadata": {},
   "outputs": [
    {
     "name": "stdout",
     "output_type": "stream",
     "text": [
      "\u001b[34m\n",
      "********************************************************************************\u001b[0m\n",
      "\u001b[34mStarting a new chat....\u001b[0m\n",
      "\u001b[34m\n",
      "********************************************************************************\u001b[0m\n",
      "\u001b[33mNumber_Agent\u001b[0m (to Adder_Agent):\n",
      "\n",
      "14\n",
      "\n",
      "--------------------------------------------------------------------------------\n",
      "\u001b[33mAdder_Agent\u001b[0m (to Number_Agent):\n",
      "\n",
      "15\n",
      "\n",
      "--------------------------------------------------------------------------------\n",
      "\u001b[33mNumber_Agent\u001b[0m (to Adder_Agent):\n",
      "\n",
      "15\n",
      "\n",
      "--------------------------------------------------------------------------------\n",
      "\u001b[33mAdder_Agent\u001b[0m (to Number_Agent):\n",
      "\n",
      "16\n",
      "\n",
      "--------------------------------------------------------------------------------\n",
      "\u001b[34m\n",
      "********************************************************************************\u001b[0m\n",
      "\u001b[34mStarting a new chat....\u001b[0m\n",
      "\u001b[34m\n",
      "********************************************************************************\u001b[0m\n",
      "\u001b[33mNumber_Agent\u001b[0m (to Multiplier_Agent):\n",
      "\n",
      "These are my numbers\n",
      "Context: \n",
      "16\n",
      "\n",
      "--------------------------------------------------------------------------------\n",
      "\u001b[33mMultiplier_Agent\u001b[0m (to Number_Agent):\n",
      "\n",
      "32\n",
      "\n",
      "--------------------------------------------------------------------------------\n",
      "\u001b[33mNumber_Agent\u001b[0m (to Multiplier_Agent):\n",
      "\n",
      "You gave me the number 32.\n",
      "\n",
      "--------------------------------------------------------------------------------\n",
      "\u001b[33mMultiplier_Agent\u001b[0m (to Number_Agent):\n",
      "\n",
      "64\n",
      "\n",
      "--------------------------------------------------------------------------------\n",
      "\u001b[34m\n",
      "********************************************************************************\u001b[0m\n",
      "\u001b[34mStarting a new chat....\u001b[0m\n",
      "\u001b[34m\n",
      "********************************************************************************\u001b[0m\n",
      "\u001b[33mNumber_Agent\u001b[0m (to Subtracter_Agent):\n",
      "\n",
      "These are my numbers\n",
      "Context: \n",
      "16\n",
      "64\n",
      "\n",
      "--------------------------------------------------------------------------------\n",
      "\u001b[33mSubtracter_Agent\u001b[0m (to Number_Agent):\n",
      "\n",
      "Sure, here are the new numbers after subtracting 1 from each:\n",
      "\n",
      "15\n",
      "63\n",
      "\n",
      "--------------------------------------------------------------------------------\n",
      "\u001b[33mNumber_Agent\u001b[0m (to Subtracter_Agent):\n",
      "\n",
      "Thank you for subtracting 1 from each number.\n",
      "\n",
      "--------------------------------------------------------------------------------\n",
      "\u001b[33mSubtracter_Agent\u001b[0m (to Number_Agent):\n",
      "\n",
      "You're welcome! If you need any more assistance with numbers, feel free to ask.\n",
      "\n",
      "--------------------------------------------------------------------------------\n",
      "\u001b[34m\n",
      "********************************************************************************\u001b[0m\n",
      "\u001b[34mStarting a new chat....\u001b[0m\n",
      "\u001b[34m\n",
      "********************************************************************************\u001b[0m\n",
      "\u001b[33mNumber_Agent\u001b[0m (to Divider_Agent):\n",
      "\n",
      "These are my numbers\n",
      "Context: \n",
      "16\n",
      "64\n",
      "You're welcome! If you need any more assistance with numbers, feel free to ask.\n",
      "\n",
      "--------------------------------------------------------------------------------\n",
      "\u001b[33mDivider_Agent\u001b[0m (to Number_Agent):\n",
      "\n",
      "8\n",
      "32\n",
      "\n",
      "--------------------------------------------------------------------------------\n",
      "\u001b[33mNumber_Agent\u001b[0m (to Divider_Agent):\n",
      "\n",
      "Here are the numbers you provided:\n",
      "8\n",
      "32\n",
      "Thank you for sharing them with me. Let me know if there is anything else you need help with!\n",
      "\n",
      "--------------------------------------------------------------------------------\n",
      "\u001b[33mDivider_Agent\u001b[0m (to Number_Agent):\n",
      "\n",
      "You're welcome! If you have any more numbers to divide by 2 or any other math-related questions, feel free to ask.\n",
      "\n",
      "--------------------------------------------------------------------------------\n"
     ]
    }
   ],
   "source": [
    "# Start a sequence of two-agent chats.\n",
    "# Each element in the list is a dictionary that specifies the arguments\n",
    "# for the initiate_chat method.\n",
    "chat_results = number_agent.initiate_chats(\n",
    "    [\n",
    "        {\n",
    "            \"recipient\": adder_agent,\n",
    "            \"message\": \"14\",\n",
    "            \"max_turns\": 2,\n",
    "            \"summary_method\": \"last_msg\",\n",
    "        },\n",
    "        {\n",
    "            \"recipient\": multiplier_agent,\n",
    "            \"message\": \"These are my numbers\",\n",
    "            \"max_turns\": 2,\n",
    "            \"summary_method\": \"last_msg\",\n",
    "        },\n",
    "        {\n",
    "            \"recipient\": subtracter_agent,\n",
    "            \"message\": \"These are my numbers\",\n",
    "            \"max_turns\": 2,\n",
    "            \"summary_method\": \"last_msg\",\n",
    "        },\n",
    "        {\n",
    "            \"recipient\": divider_agent,\n",
    "            \"message\": \"These are my numbers\",\n",
    "            \"max_turns\": 2,\n",
    "            \"summary_method\": \"last_msg\",\n",
    "        },\n",
    "    ]\n",
    ")"
   ]
  },
  {
   "cell_type": "code",
   "execution_count": 19,
   "metadata": {},
   "outputs": [
    {
     "name": "stdout",
     "output_type": "stream",
     "text": [
      "First Chat Summary:  16\n",
      "Second Chat Summary:  64\n",
      "Third Chat Summary:  You're welcome! If you need any more assistance with numbers, feel free to ask.\n",
      "Fourth Chat Summary:  You're welcome! If you have any more numbers to divide by 2 or any other math-related questions, feel free to ask.\n"
     ]
    }
   ],
   "source": [
    "print(\"First Chat Summary: \", chat_results[0].summary)\n",
    "print(\"Second Chat Summary: \", chat_results[1].summary)\n",
    "print(\"Third Chat Summary: \", chat_results[2].summary)\n",
    "print(\"Fourth Chat Summary: \", chat_results[3].summary)"
   ]
  },
  {
   "cell_type": "markdown",
   "metadata": {},
   "source": [
    "# Tool Use\n",
    "In this section, we'll demonstrate tool-use capability of the agentic system. Web Search and RAG are popular capabilities used by people every day, we show how to use AutoGen to do:\n",
    "\n",
    "* Web search using Bing API. \n",
    "* Web scraping using Apify API\n",
    "* Question and answering with RAG.\n",
    "\n",
    "More info can be found here : https://microsoft.github.io/autogen/docs/tutorial/tool-use "
   ]
  },
  {
   "cell_type": "markdown",
   "metadata": {},
   "source": [
    "## Web Search using Bing API"
   ]
  },
  {
   "cell_type": "code",
   "execution_count": 13,
   "metadata": {},
   "outputs": [],
   "source": [
    "# Put your Bing API key in the .env file in the same directory as this script\n",
    "BING_API_KEY = os.environ[\"BING_API_KEY\"]\n",
    "\n",
    "llm_config = {\n",
    "    \"timeout\": 600,\n",
    "    \"cache_seed\": 44,  # change the seed for different trials\n",
    "    \"config_list\": llm_config_dict['config_list'],\n",
    "    \"temperature\": 0,\n",
    "}\n",
    "\n",
    "summarizer_llm_config = {\n",
    "    \"timeout\": 600,\n",
    "    \"cache_seed\": 44,  # change the seed for different trials\n",
    "    \"config_list\": llm_config_dict['config_list'],\n",
    "    \"temperature\": 0,\n",
    "}"
   ]
  },
  {
   "cell_type": "code",
   "execution_count": 14,
   "metadata": {},
   "outputs": [
    {
     "name": "stdout",
     "output_type": "stream",
     "text": [
      "[autogen.oai.client: 09-20 19:18:42] {184} WARNING - The API key specified is not a valid OpenAI format; it won't work with the OpenAI-hosted model.\n",
      "[autogen.oai.client: 09-20 19:18:43] {184} WARNING - The API key specified is not a valid OpenAI format; it won't work with the OpenAI-hosted model.\n",
      "[autogen.oai.client: 09-20 19:18:43] {184} WARNING - The API key specified is not a valid OpenAI format; it won't work with the OpenAI-hosted model.\n",
      "[autogen.oai.client: 09-20 19:18:44] {184} WARNING - The API key specified is not a valid OpenAI format; it won't work with the OpenAI-hosted model.\n",
      "[autogen.oai.client: 09-20 19:18:44] {184} WARNING - The API key specified is not a valid OpenAI format; it won't work with the OpenAI-hosted model.\n",
      "[autogen.oai.client: 09-20 19:18:45] {184} WARNING - The API key specified is not a valid OpenAI format; it won't work with the OpenAI-hosted model.\n",
      "[autogen.oai.client: 09-20 19:18:45] {184} WARNING - The API key specified is not a valid OpenAI format; it won't work with the OpenAI-hosted model.\n",
      "[autogen.oai.client: 09-20 19:18:46] {184} WARNING - The API key specified is not a valid OpenAI format; it won't work with the OpenAI-hosted model.\n",
      "[autogen.oai.client: 09-20 19:18:46] {184} WARNING - The API key specified is not a valid OpenAI format; it won't work with the OpenAI-hosted model.\n",
      "[autogen.oai.client: 09-20 19:18:47] {184} WARNING - The API key specified is not a valid OpenAI format; it won't work with the OpenAI-hosted model.\n"
     ]
    }
   ],
   "source": [
    "from autogen.agentchat.contrib.web_surfer import WebSurferAgent\n",
    "\n",
    "web_surfer = WebSurferAgent(\n",
    "    \"web_surfer\",\n",
    "    llm_config=llm_config,\n",
    "    summarizer_llm_config=summarizer_llm_config,\n",
    "    browser_config={\"viewport_size\": 4096, \"bing_api_key\": BING_API_KEY},\n",
    ")\n",
    "\n",
    "user_proxy = autogen.UserProxyAgent(\n",
    "    \"user_proxy\",\n",
    "    human_input_mode=\"NEVER\",\n",
    "    code_execution_config=False,\n",
    "    default_auto_reply=\"\",\n",
    "    is_termination_msg=lambda x: True,\n",
    ")"
   ]
  },
  {
   "cell_type": "code",
   "execution_count": 15,
   "metadata": {},
   "outputs": [
    {
     "name": "stdout",
     "output_type": "stream",
     "text": [
      "\u001b[33muser_proxy\u001b[0m (to web_surfer):\n",
      "\n",
      "\n",
      "What is the history of Boise, Idaho?\n",
      "\n",
      "\n",
      "--------------------------------------------------------------------------------\n",
      "\u001b[31m\n",
      ">>>>>>>> USING AUTO REPLY...\u001b[0m\n",
      "\u001b[35m\n",
      ">>>>>>>> EXECUTING FUNCTION informational_web_search...\u001b[0m\n",
      "\u001b[33mweb_surfer\u001b[0m (to user_proxy):\n",
      "\n",
      "Address: bing: history of Boise, Idaho\n",
      "Title: history of Boise, Idaho - Search\n",
      "Viewport position: Showing page 1 of 1.\n",
      "=======================\n",
      "A Bing search for 'history of Boise, Idaho' found 10 results:\n",
      "\n",
      "## Web Results\n",
      "1. [Boise, Idaho - Wikipedia](https://en.wikipedia.org/wiki/Boise,_Idaho)\n",
      "Boise (locally / ˈ b ɔɪ s i / ⓘ BOY-see, [5] is the capital and most populous city in the U.S. state of Idaho and is the county seat of Ada County.As of the 2020 census, there were 235,684 people residing in the city.On the Boise River in southwestern Idaho, it is 41 miles (66 km) east of the Oregon border and 110 miles (177 km) north of the Nevada border. . The downtown area's elevation ...\n",
      "\n",
      "2. [Boise, Idaho: The Origin Story of Boise and the Name](https://thisisboise.com/boise-idaho-origin-story-and-the-name/)\n",
      "Follow This Is Boise. Boise, Idaho, a thriving city with a diverse economy, rich culture, and abundant natural beauty, has an intriguing history behind its name and founding. Its moniker, the “City of Trees,” is closely tied to the origin of its name, which dates back to the early 19th century and the adventures of French-Canadian fur trappers.\n",
      "\n",
      "3. [Timeline of Boise, Idaho - Wikipedia](https://en.wikipedia.org/wiki/Timeline_of_Boise,_Idaho)\n",
      "1905 – Carnegie Public Library opens [ 16][ 17] 1906 – Boise Commercial Club organized [ 18] Main Street in 1911. 1907 – Julia Davis Park established. 1908 – Pinney Theatre opens [ 19] Swedish Lutheran Church built. 1909 – College Women's Club organized [ 20] 1910 – YWCA organized [ 20] Population: 17,358.\n",
      "\n",
      "4. [A Brief History of Boise | Boise Arts & History](https://www.boiseartsandhistory.org/programs/boise-history/a-brief-history-of-boise/)\n",
      "Boise, Idaho. Looking west from 6th Street circa 1866. Idaho State Archives, 65-132-6. ... Established in 1863 along the Oregon Trail, the city exploded out of the high desert, and has witnessed a long history of dynamic change and community growth. While Boise was first built and settled by pioneers, miners, and entrepreneurs from around the ...\n",
      "\n",
      "5. [Boise | Population, Location, Map, & Facts | Britannica](https://www.britannica.com/place/Boise-Idaho)\n",
      "Boise, capital and largest city of Idaho, U.S., and the seat (1864) of Ada county. It lies along the Boise River in the southwestern part of the state. Because mountains to the north protect it from Canadian blizzards, Boise has relatively mild winters, as well as hot, dry summers. Boise was named\n",
      "\n",
      "6. [Boise History | How did Boise become the City of Trees ... - Totally Boise](https://totallyboise.com/history)\n",
      "HISTORY OF GARDEN CITY. HISTORY OF THE GREENBELT. HISTORY OF FREAK ALLEY. Historical Information: Idaho State Historical Society Library, Library and Archives Building, 450 North Fourth Street, Boise, ID 83702; Telephone: (208) 334-3356; Fax: (208) 334-3198; Email archivist: rhouse@ishs.state.id.us.\n",
      "\n",
      "7. [Boise’s Beginnings – The unofficial website of Boise's historic North ...](https://northend.org/boises-beginnings/)\n",
      "The original Fort Boise was 40 miles (64 km) west, down the Boise River, near the confluence with the Snake River at the Oregon border. This fort was erected by the Hudson’s Bay Company in the 1830s. It was abandoned in the 1850s, but massacres along the Oregon Trail prompted the U.S. Army to re-establish a fort in the area in 1863, during ...\n",
      "\n",
      "8. [History of Idaho - Wikipedia](https://en.wikipedia.org/wiki/History_of_Idaho)\n",
      "The history of Idaho is an examination of the human history and social activity within the state of Idaho, one of the United States of America located in the Pacific Northwest area near the west coast of the United States and Canada. ... Boise, Idaho: College of Social Sciences and Public Affairs, Boise State University. ...\n",
      "\n",
      "9. [Boise History Facts and Timeline: Boise, Idaho - ID, USA - World Guides](http://www.world-guides.com/north-america/usa/idaho/boise/boise_history.html)\n",
      "Boise history took off after the fort was completed, with the growing town designated as the Idaho capital, although formal city government wasn't initiated until 1867. The citizens, however, resisted municipal control, seeing it as an excuse for taxation, with the bustling town in no need of incorporation. Finally, in 1867, the city's first ...\n",
      "\n",
      "10. [Boise, Capital Of Idaho - WorldAtlas](https://www.worldatlas.com/cities/boise-idaho.html)\n",
      "The Capital building in Boise, Idaho. Boise's other sites or landmarks include the Idaho State Capital Building, which was completed in 1920, following 15 years of construction. The building contains 50,000 square feet of marble and is a great place to learn about the history of the state of Idaho.\n",
      "\n",
      "--------------------------------------------------------------------------------\n"
     ]
    },
    {
     "data": {
      "text/plain": [
       "ChatResult(chat_id=None, chat_history=[{'content': '\\nWhat is the history of Boise, Idaho?\\n', 'role': 'assistant', 'name': 'user_proxy'}, {'content': \"Address: bing: history of Boise, Idaho\\nTitle: history of Boise, Idaho - Search\\nViewport position: Showing page 1 of 1.\\n=======================\\nA Bing search for 'history of Boise, Idaho' found 10 results:\\n\\n## Web Results\\n1. [Boise, Idaho - Wikipedia](https://en.wikipedia.org/wiki/Boise,_Idaho)\\nBoise (locally / ˈ b ɔɪ s i / ⓘ BOY-see, [5] is the capital and most populous city in the U.S. state of Idaho and is the county seat of Ada County.As of the 2020 census, there were 235,684 people residing in the city.On the Boise River in southwestern Idaho, it is 41 miles (66 km) east of the Oregon border and 110 miles (177 km) north of the Nevada border. . The downtown area's elevation ...\\n\\n2. [Boise, Idaho: The Origin Story of Boise and the Name](https://thisisboise.com/boise-idaho-origin-story-and-the-name/)\\nFollow This Is Boise. Boise, Idaho, a thriving city with a diverse economy, rich culture, and abundant natural beauty, has an intriguing history behind its name and founding. Its moniker, the “City of Trees,” is closely tied to the origin of its name, which dates back to the early 19th century and the adventures of French-Canadian fur trappers.\\n\\n3. [Timeline of Boise, Idaho - Wikipedia](https://en.wikipedia.org/wiki/Timeline_of_Boise,_Idaho)\\n1905 – Carnegie Public Library opens [ 16][ 17] 1906 – Boise Commercial Club organized [ 18] Main Street in 1911. 1907 – Julia Davis Park established. 1908 – Pinney Theatre opens [ 19] Swedish Lutheran Church built. 1909 – College Women's Club organized [ 20] 1910 – YWCA organized [ 20] Population: 17,358.\\n\\n4. [A Brief History of Boise | Boise Arts & History](https://www.boiseartsandhistory.org/programs/boise-history/a-brief-history-of-boise/)\\nBoise, Idaho. Looking west from 6th Street circa 1866. Idaho State Archives, 65-132-6. ... Established in 1863 along the Oregon Trail, the city exploded out of the high desert, and has witnessed a long history of dynamic change and community growth. While Boise was first built and settled by pioneers, miners, and entrepreneurs from around the ...\\n\\n5. [Boise | Population, Location, Map, & Facts | Britannica](https://www.britannica.com/place/Boise-Idaho)\\nBoise, capital and largest city of Idaho, U.S., and the seat (1864) of Ada county. It lies along the Boise River in the southwestern part of the state. Because mountains to the north protect it from Canadian blizzards, Boise has relatively mild winters, as well as hot, dry summers. Boise was named\\n\\n6. [Boise History | How did Boise become the City of Trees ... - Totally Boise](https://totallyboise.com/history)\\nHISTORY OF GARDEN CITY. HISTORY OF THE GREENBELT. HISTORY OF FREAK ALLEY. Historical Information: Idaho State Historical Society Library, Library and Archives Building, 450 North Fourth Street, Boise, ID 83702; Telephone: (208) 334-3356; Fax: (208) 334-3198; Email archivist: rhouse@ishs.state.id.us.\\n\\n7. [Boise’s Beginnings – The unofficial website of Boise's historic North ...](https://northend.org/boises-beginnings/)\\nThe original Fort Boise was 40 miles (64 km) west, down the Boise River, near the confluence with the Snake River at the Oregon border. This fort was erected by the Hudson’s Bay Company in the 1830s. It was abandoned in the 1850s, but massacres along the Oregon Trail prompted the U.S. Army to re-establish a fort in the area in 1863, during ...\\n\\n8. [History of Idaho - Wikipedia](https://en.wikipedia.org/wiki/History_of_Idaho)\\nThe history of Idaho is an examination of the human history and social activity within the state of Idaho, one of the United States of America located in the Pacific Northwest area near the west coast of the United States and Canada. ... Boise, Idaho: College of Social Sciences and Public Affairs, Boise State University. ...\\n\\n9. [Boise History Facts and Timeline: Boise, Idaho - ID, USA - World Guides](http://www.world-guides.com/north-america/usa/idaho/boise/boise_history.html)\\nBoise history took off after the fort was completed, with the growing town designated as the Idaho capital, although formal city government wasn't initiated until 1867. The citizens, however, resisted municipal control, seeing it as an excuse for taxation, with the bustling town in no need of incorporation. Finally, in 1867, the city's first ...\\n\\n10. [Boise, Capital Of Idaho - WorldAtlas](https://www.worldatlas.com/cities/boise-idaho.html)\\nThe Capital building in Boise, Idaho. Boise's other sites or landmarks include the Idaho State Capital Building, which was completed in 1920, following 15 years of construction. The building contains 50,000 square feet of marble and is a great place to learn about the history of the state of Idaho.\", 'role': 'user', 'name': 'web_surfer'}], summary=\"Address: bing: history of Boise, Idaho\\nTitle: history of Boise, Idaho - Search\\nViewport position: Showing page 1 of 1.\\n=======================\\nA Bing search for 'history of Boise, Idaho' found 10 results:\\n\\n## Web Results\\n1. [Boise, Idaho - Wikipedia](https://en.wikipedia.org/wiki/Boise,_Idaho)\\nBoise (locally / ˈ b ɔɪ s i / ⓘ BOY-see, [5] is the capital and most populous city in the U.S. state of Idaho and is the county seat of Ada County.As of the 2020 census, there were 235,684 people residing in the city.On the Boise River in southwestern Idaho, it is 41 miles (66 km) east of the Oregon border and 110 miles (177 km) north of the Nevada border. . The downtown area's elevation ...\\n\\n2. [Boise, Idaho: The Origin Story of Boise and the Name](https://thisisboise.com/boise-idaho-origin-story-and-the-name/)\\nFollow This Is Boise. Boise, Idaho, a thriving city with a diverse economy, rich culture, and abundant natural beauty, has an intriguing history behind its name and founding. Its moniker, the “City of Trees,” is closely tied to the origin of its name, which dates back to the early 19th century and the adventures of French-Canadian fur trappers.\\n\\n3. [Timeline of Boise, Idaho - Wikipedia](https://en.wikipedia.org/wiki/Timeline_of_Boise,_Idaho)\\n1905 – Carnegie Public Library opens [ 16][ 17] 1906 – Boise Commercial Club organized [ 18] Main Street in 1911. 1907 – Julia Davis Park established. 1908 – Pinney Theatre opens [ 19] Swedish Lutheran Church built. 1909 – College Women's Club organized [ 20] 1910 – YWCA organized [ 20] Population: 17,358.\\n\\n4. [A Brief History of Boise | Boise Arts & History](https://www.boiseartsandhistory.org/programs/boise-history/a-brief-history-of-boise/)\\nBoise, Idaho. Looking west from 6th Street circa 1866. Idaho State Archives, 65-132-6. ... Established in 1863 along the Oregon Trail, the city exploded out of the high desert, and has witnessed a long history of dynamic change and community growth. While Boise was first built and settled by pioneers, miners, and entrepreneurs from around the ...\\n\\n5. [Boise | Population, Location, Map, & Facts | Britannica](https://www.britannica.com/place/Boise-Idaho)\\nBoise, capital and largest city of Idaho, U.S., and the seat (1864) of Ada county. It lies along the Boise River in the southwestern part of the state. Because mountains to the north protect it from Canadian blizzards, Boise has relatively mild winters, as well as hot, dry summers. Boise was named\\n\\n6. [Boise History | How did Boise become the City of Trees ... - Totally Boise](https://totallyboise.com/history)\\nHISTORY OF GARDEN CITY. HISTORY OF THE GREENBELT. HISTORY OF FREAK ALLEY. Historical Information: Idaho State Historical Society Library, Library and Archives Building, 450 North Fourth Street, Boise, ID 83702; Telephone: (208) 334-3356; Fax: (208) 334-3198; Email archivist: rhouse@ishs.state.id.us.\\n\\n7. [Boise’s Beginnings – The unofficial website of Boise's historic North ...](https://northend.org/boises-beginnings/)\\nThe original Fort Boise was 40 miles (64 km) west, down the Boise River, near the confluence with the Snake River at the Oregon border. This fort was erected by the Hudson’s Bay Company in the 1830s. It was abandoned in the 1850s, but massacres along the Oregon Trail prompted the U.S. Army to re-establish a fort in the area in 1863, during ...\\n\\n8. [History of Idaho - Wikipedia](https://en.wikipedia.org/wiki/History_of_Idaho)\\nThe history of Idaho is an examination of the human history and social activity within the state of Idaho, one of the United States of America located in the Pacific Northwest area near the west coast of the United States and Canada. ... Boise, Idaho: College of Social Sciences and Public Affairs, Boise State University. ...\\n\\n9. [Boise History Facts and Timeline: Boise, Idaho - ID, USA - World Guides](http://www.world-guides.com/north-america/usa/idaho/boise/boise_history.html)\\nBoise history took off after the fort was completed, with the growing town designated as the Idaho capital, although formal city government wasn't initiated until 1867. The citizens, however, resisted municipal control, seeing it as an excuse for taxation, with the bustling town in no need of incorporation. Finally, in 1867, the city's first ...\\n\\n10. [Boise, Capital Of Idaho - WorldAtlas](https://www.worldatlas.com/cities/boise-idaho.html)\\nThe Capital building in Boise, Idaho. Boise's other sites or landmarks include the Idaho State Capital Building, which was completed in 1920, following 15 years of construction. The building contains 50,000 square feet of marble and is a great place to learn about the history of the state of Idaho.\", cost={'usage_including_cached_inference': {'total_cost': 0}, 'usage_excluding_cached_inference': {'total_cost': 0}}, human_input=[])"
      ]
     },
     "execution_count": 15,
     "metadata": {},
     "output_type": "execute_result"
    }
   ],
   "source": [
    "task1 = \"\"\"\n",
    "What is the history of Boise, Idaho?\n",
    "\"\"\"\n",
    "\n",
    "user_proxy.initiate_chat(web_surfer, message=task1)"
   ]
  },
  {
   "cell_type": "code",
   "execution_count": 16,
   "metadata": {},
   "outputs": [
    {
     "name": "stdout",
     "output_type": "stream",
     "text": [
      "\u001b[33muser_proxy\u001b[0m (to web_surfer):\n",
      "\n",
      "Click on the first link.\n",
      "\n",
      "--------------------------------------------------------------------------------\n",
      "\u001b[31m\n",
      ">>>>>>>> USING AUTO REPLY...\u001b[0m\n",
      "\u001b[35m\n",
      ">>>>>>>> EXECUTING FUNCTION navigational_web_search...\u001b[0m\n",
      "\u001b[33mweb_surfer\u001b[0m (to user_proxy):\n",
      "\n",
      "Address: https://en.wikipedia.org/wiki/Boise,_Idaho\n",
      "Title: Boise, Idaho - Wikipedia\n",
      "Viewport position: Showing page 1 of 42.\n",
      "=======================\n",
      "# Boise, Idaho\n",
      "\n",
      "Capital city of Idaho, United States\n",
      "\"Boise\" redirects here. For other uses, see [Boise (disambiguation)](/wiki/Boise_(disambiguation) \"Boise (disambiguation)\").\n",
      "Not to be confused with [Boise County, Idaho](/wiki/Boise_County,_Idaho \"Boise County, Idaho\").\n",
      "\n",
      "State capital city in Idaho, United States\n",
      "\n",
      "| Boise, Idaho | |\n",
      "| --- | --- |\n",
      "| [State capital city](/wiki/List_of_capitals_in_the_United_States \"List of capitals in the United States\") | |\n",
      "| [Idaho State Capitol](/wiki/Idaho_State_Capitol \"Idaho State Capitol\")[US Bank Building](/wiki/US_Bank_Plaza_(Boise) \"US Bank Plaza (Boise)\")[Eighth \\& Main](/wiki/Eighth_%26_Main \"Eighth & Main\")[Clearwater Analytics](/wiki/Clearwater_Analytics \"Clearwater Analytics\")[Jack's Urban Meeting Place](/wiki/Jack%27s_Urban_Meeting_Place \"Jack's Urban Meeting Place\")[Albertsons Stadium](/wiki/Albertsons_Stadium \"Albertsons Stadium\") | |\n",
      "| [Flag of Boise, Idaho](/wiki/File:Flag_of_Boise,_Idaho.svg \"Flag of Boise, Idaho\")Flag[Official seal of Boise, Idaho](/wiki/File:Seal_of_Boise,_Idaho.png \"Official seal of Boise, Idaho\")Seal[Official logo of Boise, Idaho](/wiki/File:City_of_Boise_Logo.svg \"Official logo of Boise, Idaho\")Logo | |\n",
      "| Nickname: The City of Trees | |\n",
      "| Motto: Energy Peril Success | |\n",
      "| [Location within Ada County in Idaho](/wiki/File:Ada_County_Idaho_Incorporated_and_Unincorporated_areas_Boise_City_Highlighted_1608830.svg \"Location within Ada County in Idaho\")Location within [Ada County](/wiki/Ada_County,_Idaho \"Ada County, Idaho\") in [Idaho](/wiki/Idaho \"Idaho\") | |\n",
      "| [Boise is located in Idaho](/wiki/File:USA_Idaho_relief_location_map.svg \"Boise is located in Idaho\")BoiseBoiseLocation within the United StatesShow map of Idaho[Boise is located in the United States](/wiki/File:Usa_edcp_relief_location_map.png \"Boise is located in the United States\")BoiseBoiseBoise (the United States)Show map of the United States | |\n",
      "| Coordinates: [43°36′57″N 116°12′6″W﻿ / ﻿43\\.61583°N 116\\.20167°W﻿ / 43\\.61583; \\-116\\.20167](https://geohack.toolforge.org/geohack.php?pagename=Boise,_Idaho&params=43_36_57_N_116_12_6_W_region:US-ID_type:city(235684)) | |\n",
      "| Country | United States |\n",
      "| [State](/wiki/U.S._state \"U.S. state\") | [Idaho](/wiki/Idaho \"Idaho\") |\n",
      "| [County](/wiki/List_of_counties_in_Idaho \"List of counties in Idaho\") | [Ada](/wiki/Ada_County,_Idaho \"Ada County, Idaho\") |\n",
      "| Founded | 1863 |\n",
      "| [Incorporated](/wiki/Municipal_corporation \"Municipal corporation\") | 1864 |\n",
      "| Government | |\n",
      "| • Type | [Strong\\-mayor](/wiki/Strong-mayor \"Strong-mayor\") |\n",
      "| • Body | [Boise City Council](/wiki/Boise_City_Council \"Boise City Council\") |\n",
      "| • [Mayor](/wiki/List_of_mayors_of_Boise \"List of mayors of Boise\") | [Lauren McLean](/wiki/Lauren_McLean \"Lauren McLean\") ([D](/wiki/Democratic_Party_(United_States) \"Democratic Party (United States)\")) |\n",
      "| • Council President | Colin Nash |\n",
      "| Area[\\[1]](#cite_note-CenPopGazetteer2019-1) | |\n",
      "| • [State capital city](/wiki/List_of_capitals_in_the_United_States \"List of capitals in the United States\") | 85\\.00 sq mi (219\\.45 km2) |\n",
      "| • Land | 84\\.03 sq mi (216\\.96 km2) |\n",
      "| • Water | 0\\.97 sq mi (2\\.49 km2) |\n",
      "| Elevation[\\[2]](#cite_note-2) | 2,700 ft (823 m) |\n",
      "| Population ([2020](/wiki/2020_United_States_Census \"2020 United States Census\"))[\\[3]](#cite_note-3) | |\n",
      "| • [State capital city](/wiki/List_of_capitals_in_the_United_States \"List of capitals in the United States\") | 235,684 |\n",
      "| • Rank | U.S.: [94th](/wiki/List_of_United_States_cities_by_population \"List of United States cities by population\") ID: [1st](/wiki/List_of_cities_in_Idaho \"List of cities in Idaho\") |\n",
      "| • Density | 2,860\\.54/sq mi (1,055\\.28/km2) |\n",
      "| • [Urban](/wiki/Urban_area \"Urban area\") | 433,180 (US: [94th](/wiki/List_of_United_States_urban_areas \"List of United States urban areas\")) |\n",
      "| • Urban density | 3,111\\.2/sq mi (1,201\\.3/km2) |\n",
      "| • [Metro](/wiki/Metropolitan_area \"Metropolitan area\") | 764,718 (US: [75th](/wiki/List_of_Metropolitan_Statistical_Areas \"List of Metropolitan Statistical Areas\")) |\n",
      "| [Demonym](/wiki/Demonym \"Demonym\") | Boisean |\n",
      "| [Time zone](/wiki/Time_zone \n",
      "\n",
      "--------------------------------------------------------------------------------\n"
     ]
    },
    {
     "data": {
      "text/plain": [
       "ChatResult(chat_id=None, chat_history=[{'content': 'Click on the first link.', 'role': 'assistant', 'name': 'user_proxy'}, {'content': 'Address: https://en.wikipedia.org/wiki/Boise,_Idaho\\nTitle: Boise, Idaho - Wikipedia\\nViewport position: Showing page 1 of 42.\\n=======================\\n# Boise, Idaho\\n\\nCapital city of Idaho, United States\\n\"Boise\" redirects here. For other uses, see [Boise (disambiguation)](/wiki/Boise_(disambiguation) \"Boise (disambiguation)\").\\nNot to be confused with [Boise County, Idaho](/wiki/Boise_County,_Idaho \"Boise County, Idaho\").\\n\\nState capital city in Idaho, United States\\n\\n| Boise, Idaho | |\\n| --- | --- |\\n| [State capital city](/wiki/List_of_capitals_in_the_United_States \"List of capitals in the United States\") | |\\n| [Idaho State Capitol](/wiki/Idaho_State_Capitol \"Idaho State Capitol\")[US Bank Building](/wiki/US_Bank_Plaza_(Boise) \"US Bank Plaza (Boise)\")[Eighth \\\\& Main](/wiki/Eighth_%26_Main \"Eighth & Main\")[Clearwater Analytics](/wiki/Clearwater_Analytics \"Clearwater Analytics\")[Jack\\'s Urban Meeting Place](/wiki/Jack%27s_Urban_Meeting_Place \"Jack\\'s Urban Meeting Place\")[Albertsons Stadium](/wiki/Albertsons_Stadium \"Albertsons Stadium\") | |\\n| [Flag of Boise, Idaho](/wiki/File:Flag_of_Boise,_Idaho.svg \"Flag of Boise, Idaho\")Flag[Official seal of Boise, Idaho](/wiki/File:Seal_of_Boise,_Idaho.png \"Official seal of Boise, Idaho\")Seal[Official logo of Boise, Idaho](/wiki/File:City_of_Boise_Logo.svg \"Official logo of Boise, Idaho\")Logo | |\\n| Nickname:\\xa0The City of Trees | |\\n| Motto:\\xa0Energy Peril Success | |\\n| [Location within Ada County in Idaho](/wiki/File:Ada_County_Idaho_Incorporated_and_Unincorporated_areas_Boise_City_Highlighted_1608830.svg \"Location within Ada County in Idaho\")Location within [Ada County](/wiki/Ada_County,_Idaho \"Ada County, Idaho\") in [Idaho](/wiki/Idaho \"Idaho\") | |\\n| [Boise is located in Idaho](/wiki/File:USA_Idaho_relief_location_map.svg \"Boise is located in Idaho\")BoiseBoiseLocation within the United StatesShow map of Idaho[Boise is located in the United States](/wiki/File:Usa_edcp_relief_location_map.png \"Boise is located in the United States\")BoiseBoiseBoise (the United States)Show map of the United States | |\\n| Coordinates: [43°36′57″N 116°12′6″W\\ufeff / \\ufeff43\\\\.61583°N 116\\\\.20167°W\\ufeff / 43\\\\.61583; \\\\-116\\\\.20167](https://geohack.toolforge.org/geohack.php?pagename=Boise,_Idaho&params=43_36_57_N_116_12_6_W_region:US-ID_type:city(235684)) | |\\n| Country | United States |\\n| [State](/wiki/U.S._state \"U.S. state\") | [Idaho](/wiki/Idaho \"Idaho\") |\\n| [County](/wiki/List_of_counties_in_Idaho \"List of counties in Idaho\") | [Ada](/wiki/Ada_County,_Idaho \"Ada County, Idaho\") |\\n| Founded | 1863 |\\n| [Incorporated](/wiki/Municipal_corporation \"Municipal corporation\") | 1864 |\\n| Government | |\\n| •\\xa0Type | [Strong\\\\-mayor](/wiki/Strong-mayor \"Strong-mayor\") |\\n| •\\xa0Body | [Boise City Council](/wiki/Boise_City_Council \"Boise City Council\") |\\n| •\\xa0[Mayor](/wiki/List_of_mayors_of_Boise \"List of mayors of Boise\") | [Lauren McLean](/wiki/Lauren_McLean \"Lauren McLean\") ([D](/wiki/Democratic_Party_(United_States) \"Democratic Party (United States)\")) |\\n| •\\xa0Council President | Colin Nash |\\n| Area[\\\\[1]](#cite_note-CenPopGazetteer2019-1) | |\\n| •\\xa0[State capital city](/wiki/List_of_capitals_in_the_United_States \"List of capitals in the United States\") | 85\\\\.00\\xa0sq\\xa0mi (219\\\\.45\\xa0km2) |\\n| •\\xa0Land | 84\\\\.03\\xa0sq\\xa0mi (216\\\\.96\\xa0km2) |\\n| •\\xa0Water | 0\\\\.97\\xa0sq\\xa0mi (2\\\\.49\\xa0km2) |\\n| Elevation[\\\\[2]](#cite_note-2) | 2,700\\xa0ft (823\\xa0m) |\\n| Population\\xa0([2020](/wiki/2020_United_States_Census \"2020 United States Census\"))[\\\\[3]](#cite_note-3) | |\\n| •\\xa0[State capital city](/wiki/List_of_capitals_in_the_United_States \"List of capitals in the United States\") | 235,684 |\\n| •\\xa0Rank | U.S.: [94th](/wiki/List_of_United_States_cities_by_population \"List of United States cities by population\") ID: [1st](/wiki/List_of_cities_in_Idaho \"List of cities in Idaho\") |\\n| •\\xa0Density | 2,860\\\\.54/sq\\xa0mi (1,055\\\\.28/km2) |\\n| •\\xa0[Urban](/wiki/Urban_area \"Urban area\") | 433,180 (US: [94th](/wiki/List_of_United_States_urban_areas \"List of United States urban areas\")) |\\n| •\\xa0Urban\\xa0density | 3,111\\\\.2/sq\\xa0mi (1,201\\\\.3/km2) |\\n| •\\xa0[Metro](/wiki/Metropolitan_area \"Metropolitan area\") | 764,718 (US: [75th](/wiki/List_of_Metropolitan_Statistical_Areas \"List of Metropolitan Statistical Areas\")) |\\n| [Demonym](/wiki/Demonym \"Demonym\") | Boisean |\\n| [Time zone](/wiki/Time_zone ', 'role': 'user', 'name': 'web_surfer'}], summary='Address: https://en.wikipedia.org/wiki/Boise,_Idaho\\nTitle: Boise, Idaho - Wikipedia\\nViewport position: Showing page 1 of 42.\\n=======================\\n# Boise, Idaho\\n\\nCapital city of Idaho, United States\\n\"Boise\" redirects here. For other uses, see [Boise (disambiguation)](/wiki/Boise_(disambiguation) \"Boise (disambiguation)\").\\nNot to be confused with [Boise County, Idaho](/wiki/Boise_County,_Idaho \"Boise County, Idaho\").\\n\\nState capital city in Idaho, United States\\n\\n| Boise, Idaho | |\\n| --- | --- |\\n| [State capital city](/wiki/List_of_capitals_in_the_United_States \"List of capitals in the United States\") | |\\n| [Idaho State Capitol](/wiki/Idaho_State_Capitol \"Idaho State Capitol\")[US Bank Building](/wiki/US_Bank_Plaza_(Boise) \"US Bank Plaza (Boise)\")[Eighth \\\\& Main](/wiki/Eighth_%26_Main \"Eighth & Main\")[Clearwater Analytics](/wiki/Clearwater_Analytics \"Clearwater Analytics\")[Jack\\'s Urban Meeting Place](/wiki/Jack%27s_Urban_Meeting_Place \"Jack\\'s Urban Meeting Place\")[Albertsons Stadium](/wiki/Albertsons_Stadium \"Albertsons Stadium\") | |\\n| [Flag of Boise, Idaho](/wiki/File:Flag_of_Boise,_Idaho.svg \"Flag of Boise, Idaho\")Flag[Official seal of Boise, Idaho](/wiki/File:Seal_of_Boise,_Idaho.png \"Official seal of Boise, Idaho\")Seal[Official logo of Boise, Idaho](/wiki/File:City_of_Boise_Logo.svg \"Official logo of Boise, Idaho\")Logo | |\\n| Nickname:\\xa0The City of Trees | |\\n| Motto:\\xa0Energy Peril Success | |\\n| [Location within Ada County in Idaho](/wiki/File:Ada_County_Idaho_Incorporated_and_Unincorporated_areas_Boise_City_Highlighted_1608830.svg \"Location within Ada County in Idaho\")Location within [Ada County](/wiki/Ada_County,_Idaho \"Ada County, Idaho\") in [Idaho](/wiki/Idaho \"Idaho\") | |\\n| [Boise is located in Idaho](/wiki/File:USA_Idaho_relief_location_map.svg \"Boise is located in Idaho\")BoiseBoiseLocation within the United StatesShow map of Idaho[Boise is located in the United States](/wiki/File:Usa_edcp_relief_location_map.png \"Boise is located in the United States\")BoiseBoiseBoise (the United States)Show map of the United States | |\\n| Coordinates: [43°36′57″N 116°12′6″W\\ufeff / \\ufeff43\\\\.61583°N 116\\\\.20167°W\\ufeff / 43\\\\.61583; \\\\-116\\\\.20167](https://geohack.toolforge.org/geohack.php?pagename=Boise,_Idaho&params=43_36_57_N_116_12_6_W_region:US-ID_type:city(235684)) | |\\n| Country | United States |\\n| [State](/wiki/U.S._state \"U.S. state\") | [Idaho](/wiki/Idaho \"Idaho\") |\\n| [County](/wiki/List_of_counties_in_Idaho \"List of counties in Idaho\") | [Ada](/wiki/Ada_County,_Idaho \"Ada County, Idaho\") |\\n| Founded | 1863 |\\n| [Incorporated](/wiki/Municipal_corporation \"Municipal corporation\") | 1864 |\\n| Government | |\\n| •\\xa0Type | [Strong\\\\-mayor](/wiki/Strong-mayor \"Strong-mayor\") |\\n| •\\xa0Body | [Boise City Council](/wiki/Boise_City_Council \"Boise City Council\") |\\n| •\\xa0[Mayor](/wiki/List_of_mayors_of_Boise \"List of mayors of Boise\") | [Lauren McLean](/wiki/Lauren_McLean \"Lauren McLean\") ([D](/wiki/Democratic_Party_(United_States) \"Democratic Party (United States)\")) |\\n| •\\xa0Council President | Colin Nash |\\n| Area[\\\\[1]](#cite_note-CenPopGazetteer2019-1) | |\\n| •\\xa0[State capital city](/wiki/List_of_capitals_in_the_United_States \"List of capitals in the United States\") | 85\\\\.00\\xa0sq\\xa0mi (219\\\\.45\\xa0km2) |\\n| •\\xa0Land | 84\\\\.03\\xa0sq\\xa0mi (216\\\\.96\\xa0km2) |\\n| •\\xa0Water | 0\\\\.97\\xa0sq\\xa0mi (2\\\\.49\\xa0km2) |\\n| Elevation[\\\\[2]](#cite_note-2) | 2,700\\xa0ft (823\\xa0m) |\\n| Population\\xa0([2020](/wiki/2020_United_States_Census \"2020 United States Census\"))[\\\\[3]](#cite_note-3) | |\\n| •\\xa0[State capital city](/wiki/List_of_capitals_in_the_United_States \"List of capitals in the United States\") | 235,684 |\\n| •\\xa0Rank | U.S.: [94th](/wiki/List_of_United_States_cities_by_population \"List of United States cities by population\") ID: [1st](/wiki/List_of_cities_in_Idaho \"List of cities in Idaho\") |\\n| •\\xa0Density | 2,860\\\\.54/sq\\xa0mi (1,055\\\\.28/km2) |\\n| •\\xa0[Urban](/wiki/Urban_area \"Urban area\") | 433,180 (US: [94th](/wiki/List_of_United_States_urban_areas \"List of United States urban areas\")) |\\n| •\\xa0Urban\\xa0density | 3,111\\\\.2/sq\\xa0mi (1,201\\\\.3/km2) |\\n| •\\xa0[Metro](/wiki/Metropolitan_area \"Metropolitan area\") | 764,718 (US: [75th](/wiki/List_of_Metropolitan_Statistical_Areas \"List of Metropolitan Statistical Areas\")) |\\n| [Demonym](/wiki/Demonym \"Demonym\") | Boisean |\\n| [Time zone](/wiki/Time_zone ', cost={'usage_including_cached_inference': {'total_cost': 0}, 'usage_excluding_cached_inference': {'total_cost': 0}}, human_input=[])"
      ]
     },
     "execution_count": 16,
     "metadata": {},
     "output_type": "execute_result"
    }
   ],
   "source": [
    "task2 = \"Click on the first link.\"\n",
    "user_proxy.initiate_chat(web_surfer, message=task2)"
   ]
  },
  {
   "cell_type": "code",
   "execution_count": 17,
   "metadata": {},
   "outputs": [
    {
     "name": "stdout",
     "output_type": "stream",
     "text": [
      "\u001b[33muser_proxy\u001b[0m (to web_surfer):\n",
      "\n",
      "What is the population of Boise, Idaho?\n",
      "\n",
      "--------------------------------------------------------------------------------\n",
      "\u001b[31m\n",
      ">>>>>>>> USING AUTO REPLY...\u001b[0m\n",
      "\u001b[35m\n",
      ">>>>>>>> EXECUTING FUNCTION answer_from_page...\u001b[0m\n",
      "\u001b[33mweb_surfer\u001b[0m (to user_proxy):\n",
      "\n",
      "Boise, Idaho, the capital city of Idaho, has a population of 235,684 as of the 2020 census. The city is located in southwestern Idaho, about 41 miles east of the Oregon border and 110 miles north of the Nevada border. Boise experiences a semi-arid continental climate with four distinct seasons. Summers are hot and dry with temperatures reaching 100°F on average nine days a year. Winters are moderately cold with occasional lows below 0°F. Spring and fall are mild. Boise receives an average of 12 inches of precipitation annually, with snowfall averaging 18 inches.\n",
      "\n",
      "The city is divided into various neighborhoods, including Downtown Boise, known for its cultural center and small businesses; the North End, with older homes and tree-lined streets; and Southeast Boise, home to Boise State University and Micron Technology. Other neighborhoods include the Boise Highlands, Southwest Boise, Northwest Boise, Warm Springs and East End, Harris Ranch and Riverland East, the Boise Bench, and West Boise. Each neighborhood offers a unique blend of residential areas, businesses, and amenities, contributing to the diverse cityscape of Boise.\n",
      "\n",
      "--------------------------------------------------------------------------------\n"
     ]
    },
    {
     "data": {
      "text/plain": [
       "ChatResult(chat_id=None, chat_history=[{'content': 'What is the population of Boise, Idaho?', 'role': 'assistant', 'name': 'user_proxy'}, {'content': 'Boise, Idaho, the capital city of Idaho, has a population of 235,684 as of the 2020 census. The city is located in southwestern Idaho, about 41 miles east of the Oregon border and 110 miles north of the Nevada border. Boise experiences a semi-arid continental climate with four distinct seasons. Summers are hot and dry with temperatures reaching 100°F on average nine days a year. Winters are moderately cold with occasional lows below 0°F. Spring and fall are mild. Boise receives an average of 12 inches of precipitation annually, with snowfall averaging 18 inches.\\n\\nThe city is divided into various neighborhoods, including Downtown Boise, known for its cultural center and small businesses; the North End, with older homes and tree-lined streets; and Southeast Boise, home to Boise State University and Micron Technology. Other neighborhoods include the Boise Highlands, Southwest Boise, Northwest Boise, Warm Springs and East End, Harris Ranch and Riverland East, the Boise Bench, and West Boise. Each neighborhood offers a unique blend of residential areas, businesses, and amenities, contributing to the diverse cityscape of Boise.', 'role': 'user', 'name': 'web_surfer'}], summary='Boise, Idaho, the capital city of Idaho, has a population of 235,684 as of the 2020 census. The city is located in southwestern Idaho, about 41 miles east of the Oregon border and 110 miles north of the Nevada border. Boise experiences a semi-arid continental climate with four distinct seasons. Summers are hot and dry with temperatures reaching 100°F on average nine days a year. Winters are moderately cold with occasional lows below 0°F. Spring and fall are mild. Boise receives an average of 12 inches of precipitation annually, with snowfall averaging 18 inches.\\n\\nThe city is divided into various neighborhoods, including Downtown Boise, known for its cultural center and small businesses; the North End, with older homes and tree-lined streets; and Southeast Boise, home to Boise State University and Micron Technology. Other neighborhoods include the Boise Highlands, Southwest Boise, Northwest Boise, Warm Springs and East End, Harris Ranch and Riverland East, the Boise Bench, and West Boise. Each neighborhood offers a unique blend of residential areas, businesses, and amenities, contributing to the diverse cityscape of Boise.', cost={'usage_including_cached_inference': {'total_cost': 0}, 'usage_excluding_cached_inference': {'total_cost': 0}}, human_input=[])"
      ]
     },
     "execution_count": 17,
     "metadata": {},
     "output_type": "execute_result"
    }
   ],
   "source": [
    "task3 = \"What is the population of Boise, Idaho?\"\n",
    "user_proxy.initiate_chat(web_surfer, message=task3)"
   ]
  },
  {
   "cell_type": "markdown",
   "metadata": {},
   "source": [
    "## Web Scraping Using Apify Tool"
   ]
  },
  {
   "cell_type": "code",
   "execution_count": 18,
   "metadata": {},
   "outputs": [],
   "source": [
    "# Put your Apify API key in the .env file in the same directory as this script\n",
    "APIFY_API_KEY = os.environ[\"APIFY_API_KEY\"]"
   ]
  },
  {
   "cell_type": "code",
   "execution_count": 19,
   "metadata": {},
   "outputs": [],
   "source": [
    "from apify_client import ApifyClient\n",
    "from typing_extensions import Annotated\n",
    "\n",
    "\n",
    "def scrape_page(url: Annotated[str, \"The URL of the web page to scrape\"]) -> Annotated[str, \"Scraped content\"]:\n",
    "    # Initialize the ApifyClient with your API token\n",
    "    client = ApifyClient(token=APIFY_API_KEY)\n",
    "\n",
    "    # Prepare the Actor input\n",
    "    run_input = {\n",
    "        \"startUrls\": [{\"url\": url}],\n",
    "        \"useSitemaps\": False,\n",
    "        \"crawlerType\": \"playwright:firefox\",\n",
    "        \"includeUrlGlobs\": [],\n",
    "        \"excludeUrlGlobs\": [],\n",
    "        \"ignoreCanonicalUrl\": False,\n",
    "        \"maxCrawlDepth\": 0,\n",
    "        \"maxCrawlPages\": 1,\n",
    "        \"initialConcurrency\": 0,\n",
    "        \"maxConcurrency\": 200,\n",
    "        \"initialCookies\": [],\n",
    "        \"proxyConfiguration\": {\"useApifyProxy\": True},\n",
    "        \"maxSessionRotations\": 10,\n",
    "        \"maxRequestRetries\": 5,\n",
    "        \"requestTimeoutSecs\": 60,\n",
    "        \"dynamicContentWaitSecs\": 10,\n",
    "        \"maxScrollHeightPixels\": 5000,\n",
    "        \"removeElementsCssSelector\": \"\"\"nav, footer, script, style, noscript, svg,\n",
    "    [role=\\\"alert\\\"],\n",
    "    [role=\\\"banner\\\"],\n",
    "    [role=\\\"dialog\\\"],\n",
    "    [role=\\\"alertdialog\\\"],\n",
    "    [role=\\\"region\\\"][aria-label*=\\\"skip\\\" i],\n",
    "    [aria-modal=\\\"true\\\"]\"\"\",\n",
    "        \"removeCookieWarnings\": True,\n",
    "        \"clickElementsCssSelector\": '[aria-expanded=\"false\"]',\n",
    "        \"htmlTransformer\": \"readableText\",\n",
    "        \"readableTextCharThreshold\": 100,\n",
    "        \"aggressivePrune\": False,\n",
    "        \"debugMode\": True,\n",
    "        \"debugLog\": True,\n",
    "        \"saveHtml\": True,\n",
    "        \"saveMarkdown\": True,\n",
    "        \"saveFiles\": False,\n",
    "        \"saveScreenshots\": False,\n",
    "        \"maxResults\": 9999999,\n",
    "        \"clientSideMinChangePercentage\": 15,\n",
    "        \"renderingTypeDetectionPercentage\": 10,\n",
    "    }\n",
    "\n",
    "    # Run the Actor and wait for it to finish\n",
    "    run = client.actor(\"aYG0l9s7dbB7j3gbS\").call(run_input=run_input)\n",
    "\n",
    "    # Fetch and print Actor results from the run's dataset (if there are any)\n",
    "    text_data = \"\"\n",
    "    for item in client.dataset(run[\"defaultDatasetId\"]).iterate_items():\n",
    "        text_data += item.get(\"text\", \"\") + \"\\n\"\n",
    "\n",
    "    average_token = 0.75\n",
    "    max_tokens = 20000  # slightly less than max to be safe 32k\n",
    "    text_data = text_data[: int(average_token * max_tokens)]\n",
    "    return text_data"
   ]
  },
  {
   "cell_type": "code",
   "execution_count": 20,
   "metadata": {},
   "outputs": [
    {
     "name": "stdout",
     "output_type": "stream",
     "text": [
      "[autogen.oai.client: 09-20 19:18:59] {184} WARNING - The API key specified is not a valid OpenAI format; it won't work with the OpenAI-hosted model.\n",
      "[autogen.oai.client: 09-20 19:19:00] {184} WARNING - The API key specified is not a valid OpenAI format; it won't work with the OpenAI-hosted model.\n"
     ]
    }
   ],
   "source": [
    "from autogen import ConversableAgent, register_function\n",
    "\n",
    "# Create web scrapper agent.\n",
    "scraper_agent = ConversableAgent(\n",
    "    \"WebScraper\",\n",
    "    llm_config=llm_config_dict,\n",
    "    system_message=\"You are a web scrapper and you can scrape any web page using the tools provided. \"\n",
    "    \"Returns 'TERMINATE' when the scraping is done.\",\n",
    ")\n",
    "\n",
    "# Create user proxy agent.\n",
    "user_proxy_agent = ConversableAgent(\n",
    "    \"UserProxy\",\n",
    "    llm_config=False,  # No LLM for this agent.\n",
    "    human_input_mode=\"NEVER\",\n",
    "    code_execution_config=False,  # No code execution for this agent.\n",
    "    is_termination_msg=lambda x: x.get(\"content\", \"\") is not None and \"terminate\" in x[\"content\"].lower(),\n",
    "    default_auto_reply=\"Please continue if not finished, otherwise return 'TERMINATE'.\",\n",
    ")\n",
    "\n",
    "# Register the function with the agents.\n",
    "register_function(\n",
    "    scrape_page,\n",
    "    caller=scraper_agent,\n",
    "    executor=user_proxy_agent,\n",
    "    name=\"scrape_page\",\n",
    "    description=\"Scrape a web page and return the content.\",\n",
    ")"
   ]
  },
  {
   "cell_type": "code",
   "execution_count": 21,
   "metadata": {},
   "outputs": [
    {
     "name": "stdout",
     "output_type": "stream",
     "text": [
      "\u001b[33mUserProxy\u001b[0m (to WebScraper):\n",
      "\n",
      "Can you scrape https://en.wikipedia.org/wiki/Boise,_Idaho for me?\n",
      "\n",
      "--------------------------------------------------------------------------------\n",
      "\u001b[31m\n",
      ">>>>>>>> USING AUTO REPLY...\u001b[0m\n",
      "\u001b[33mWebScraper\u001b[0m (to UserProxy):\n",
      "\n",
      "\u001b[32m***** Suggested tool call (call_2NOGtisxj5E9ONCx8uYrMU1O): scrape_page *****\u001b[0m\n",
      "Arguments: \n",
      "{\"url\":\"https://en.wikipedia.org/wiki/Boise,_Idaho\"}\n",
      "\u001b[32m****************************************************************************\u001b[0m\n",
      "\n",
      "--------------------------------------------------------------------------------\n",
      "\u001b[35m\n",
      ">>>>>>>> EXECUTING FUNCTION scrape_page...\u001b[0m\n",
      "\u001b[33mUserProxy\u001b[0m (to WebScraper):\n",
      "\n",
      "\u001b[33mUserProxy\u001b[0m (to WebScraper):\n",
      "\n",
      "\u001b[32m***** Response from calling tool (call_2NOGtisxj5E9ONCx8uYrMU1O) *****\u001b[0m\n",
      "Boise, Idaho - Wikipedia\n",
      "Boise, Idaho\n",
      "State capital city\n",
      "\t\n",
      "Idaho State Capitol\n",
      "US Bank Building\n",
      "Eighth & Main\n",
      "Clearwater Analytics\n",
      "Jack's Urban Meeting Place\n",
      "Albertsons Stadium\n",
      "\t\n",
      "Flag\n",
      "Seal\n",
      "Logo\n",
      "\t\n",
      "Nickname: \n",
      "The City of Trees\n",
      "\t\n",
      "Motto: \n",
      "Energy Peril Success\n",
      "\t\n",
      "Location within Ada County in Idaho\n",
      "\t\n",
      "Boise\n",
      "Location within the United States\n",
      "Show map of IdahoShow map of the United StatesShow all\n",
      "\t\n",
      "Coordinates: 43°36′57″N 116°12′6″W / 43.61583°N 116.20167°W\t\n",
      "CountryUnited States\t\n",
      "StateIdaho\t\n",
      "CountyAda\t\n",
      "Founded1863\t\n",
      "Incorporated1864\t\n",
      "Government\n",
      "• TypeStrong-mayor\t\n",
      "• BodyBoise City Council\t\n",
      "• MayorLauren McLean (D)\t\n",
      "• Council PresidentColin Nash\t\n",
      "Area\n",
      "[1]\n",
      "• State capital city85.00 sq mi (219.45 km2)\t\n",
      "• Land84.03 sq mi (216.96 km2)\t\n",
      "• Water0.97 sq mi (2.49 km2)\t\n",
      "Elevation\n",
      "[2]\n",
      "2,700 ft (823 m)\t\n",
      "Population\n",
      "(2020)[3]\n",
      "• State capital city235,684\t\n",
      "• RankU.S.: 94th ID: 1st\t\n",
      "• Density2,860.54/sq mi (1,055.28/km2)\t\n",
      "• Urban433,180 (US: 94th)\t\n",
      "• Urban density3,111.2/sq mi (1,201.3/km2)\t\n",
      "• Metro764,718 (US: 75th)\t\n",
      "DemonymBoisean\t\n",
      "Time zoneUTC−7 (MST)\t\n",
      "• Summer (DST)UTC−6 (MDT)\t\n",
      "ZIP codes\n",
      "83701-83709, 83711-83717, 83719-83720, 83722, 83724-83726, 83728-83729, 83732, 83735, 83756, 83799\n",
      "\t\n",
      "Area code(s)208, 986\t\n",
      "FIPS code16-08830\t\n",
      "GNIS feature ID400590\t\n",
      "Websitewww.cityofboise.org\t\n",
      "Boise ( BOY-see,[5] is the capital and most populous city in the U.S. state of Idaho and is the county seat of Ada County. As of the 2020 census, there were 235,684 people residing in the city. On the Boise River in southwestern Idaho, it is 41 miles (66 km) east of the Oregon border and 110 miles (177 km) north of the Nevada border. The downtown area's elevation is 2,704 feet (824 m) above sea level. \n",
      "The Boise metropolitan area, also known as the Treasure Valley, includes five counties with a combined population of 749,202, the most populous metropolitan area in Idaho. It contains the state's three largest cities: Boise, Nampa, and Meridian. The Boise–Nampa Metropolitan Statistical Area is the 77th most populous metropolitan statistical area in the United States. \n",
      "Downtown Boise is the cultural center and home to many small businesses alongside a number of high-rise buildings. The area has a variety of shops and restaurants. Centrally, 8th Street contains a pedestrian zone with sidewalk cafes and restaurants. The neighborhood has many local restaurants, bars, and boutiques. The area also contains the Basque Block, which showcases Boise's Basque heritage. Downtown Boise's main attractions include the Idaho State Capitol, the classic Egyptian Theatre on the corner of Capitol Boulevard and Main Street, the Boise Art Museum on Capitol in front of Julia Davis Park, and Zoo Boise on the grounds of Julia Davis Park. \n",
      "\t\n",
      "This section needs expansion. You can help by adding to it. (September 2021)\n",
      "\t\n",
      "Floating the Boise River \n",
      "The origin of the name is uncertain. One account credits Capt. B. L. E. Bonneville of the U.S. Army as its source. After trekking for weeks through dry and rough terrain, his exploration party reached an overlook with a view of the Boise River Valley. The place where they stood is called Bonneville Point, located on the Oregon Trail east of the city. According to the story, a French-speaking guide, overwhelmed by the sight of the verdant river, yelled \"Les bois! Les bois!\" (\"The woods! The woods!\")—and the name stuck. \n",
      "The name may also derive from earlier mountain men who named the river that flows through the city. In the 1820s, French Canadian fur trappers associated with the British-owned Hudson's Bay Company set trap lines in the vicinity. Set in a high-desert area, the tree-lined valley of the Boise River became a distinct landmark, an oasis dominated by cottonwood trees. This led the French trappers to call the area \"la rivière boisée\" (\"the wooded river\").[6] \n",
      "Most local and longtime residents use the pronunciation /ˈbɔɪsiː/ (BOY-see),[7] as given on the city's website.[5] The pronunciation is sometimes used as a shibboleth, as outsiders (and newcomers) tend to mispronounce the city's name as /ˈbɔɪziː/ (BOY-zee).[8][9] In French, the name of the city is pronounced /ˈbwaz/ (Bwaz).[10] \n",
      "Tribes and First Contact\n",
      "[edit]\n",
      "The area of Boise valley was inhabited by Boise Valley Shoshone and Bannock tribes, a part of the \"Snake Country\". According to the City of Boise's \"History of Boise\" report, \"they gathered annually in the valley to participate in trading rendezvous with other tribes and catch salmon in the Boise River runs to help sustain them year-round. They spent winters in the valley where the climate was milder and visited the hot springs for bathing and healing. Castle Rock, called Eagle Rock by the tribes, was and remains a sacred site.\"[11] \n",
      "Boise Valley Shoshone belonged to the \"Yahandeka\" (groundhog eaters) grouping. They were among the early mounted Shoshone bands. They traveled over a considerable range by the beginning of the nineteenth century, with their main hunting lands along the lower Boise River and Payette River. When Donald MacKenzie developed the Snake country fur trade after 1818, the most prominent of the Boise Shoshone, Peiem (a Shoshoni rendition of \"Big Jim\", their leader's English name), became the most influential leader of the large composite Shoshoni band that white trappers regularly encountered in the Snake Country. \n",
      "In 1811, Wilson Hunt, employed as an agent in the fur trade under John Jacob Astor, organized and led the greater part of a group of about 60 men[12] on an overland expedition to establish a fur trading outpost at the mouth of the Columbia River.[12][13] This expedition passed through the Boise valley, and was the first ever time a white American has entered the region.[14][15] Because of the War of 1812 and the lack of U.S. fur trading posts in the Pacific Northwest, most of the route was not used in the following two decades, and thus Snake Country remained free of settler incursions. \n",
      "After the conclusion of the war of 1812, up until the 1840s, Oregon, while officially \"jointly administered\", was solely dominated by the British Hudson's Bay Company (HBC), which had a land connection to the inland of the Canadian Prairies via York Factory Express. Snake Country, including Boise Valley remained independent and relatively free of settler passage and incursion. This was due to two main reasons. Firstly, the general region to the East of the Cascades and west of Rockies at the time, was described in the media and literature of Eastern US as the \"Great American Desert\", an arid unproductive region, unsuitable for habitation.[16][17] Thus the region of Boise itself was of no interest to settlers. Oregon Country, on the other side of the Cascades, was however a desirable destination for settlers. Nevertheless, the British had an official policy of discouraging American settlers. Thus, settler incursions into Boise Valley along the Oregon Trail remained low, until early 1840s. \n",
      "The HBC established a fort in the region, the Old Fort Boise, 40 miles (64 km) west, near Parma, down the Boise River near its confluence with the Snake River at the Oregon border. They were present in the fort until 1844, handing the fort over to the United States Army afterwards. \n",
      "Starting from early 1840s, developments further West, in modern Oregon, meant significant changes to the region of Boise. At this time, HBC and the British started moving their operations further North into British Columbia, while there was a slow and steady rise in number of settlers in Oregon Country, who demanded annexation. These developments eventually culminated in Oregon Treaty, in which the British gave the region up to the US, thus ending the era of \"Joint occupation\". This meant that Boise valley and much of Snake Country was claimed as Oregon Territory. \n",
      "With the discovery of gold in California in 1848 and the passage of Donation Land Claim Act, the settler incursions increased exponentially. The increased settler incursions through Shoshone and Bannock territories, and their increased exploitation of the valley's game and resources on their trip, resulted in an increasing sense of frustration among the Indigenous bands along the entire Oregon Trail. Thus, starting from early 1850s, to deter settler caravans from using the route and trespassing on their lands, Native peoples along the entire length of the trail, from modern Eastern Idaho to modern Central Oregon started staging low intensity attacks against passing caravans.[18][19] \n",
      "One such attack, referred to as \"Ward Massacre\", was in Boise Valley, about 20 Miles to the West of modern Boise. On August 20, 1854, Alexander Ward's five-wagon caravan of 20 emigrants was passing through, when a group of Shoshone and Bannock warriors ambushed the caravan. The goal of the ambush was initially to take away the horses of the caravan. However, shooting of one of the Shoshone warriors with a revolver, resulted in the killing of everyone except for two of Alexander Ward's children by the Shoshone warriors.[20] In response, the United States Army launched the Winnas Expedition, which involved raids on Native encampments for a period of several months during Summer of 1855. In the period between 1846 and 1856, 700 white settlers were killed along the entire length of Oregon Trail due to attacks and raids by Native warriors on their caravans while intruding native land. American military intrusion and retaliation only further angered the native tribes and escalated the conflict, which forced the United States Army to abandon Old Fort Boise. Intensified attacks against passing caravans made travel impossible for settlers except with US Army escort, which started from 1858. \n",
      "Discovery of gold and silver\n",
      "[edit]\n",
      "The decline of the California gold rush prompted white settlers to search for gold elsewhere, including much of Idaho. The 1860 discovery of gold in Nez Perce territory near Pierce, Idaho and the resultant arrival of settlers raised tensions significantly.[21] In September of that year, the Utter Party Massacre happened about 100 miles Southeast of Boise, where 29 out of a group of 44 settlers were either killed or captured in an intense and organized ambush. \n",
      "The discovery of gold around the Boise valley in 1863, together with ongoing fighting prompted the US Military to establish a new Fort Boise, where Boise is located today. The new location was selected because it was near the intersection of the Oregon Trail with a major road connecting the Boise Basin (Idaho City) and the Owyhee (Silver City) mining areas, both of which were booming. That year, the United States established Idaho Territory, whose boundaries included this region. After a year, with the creation of Montana Territory, Boise was made the territorial capital of a much reduced Idaho in a controversial decision which overturned a district court ruling by a one-vote majority in the territorial supreme court along geographic lines in 1866. There was no treaty and no agreement with any of the native tribes up to this point, and the violent resistance against incursion and settlement onto their territory along the Oregon Trail and at the newly-found gold mines continued unabated. In order to resolve the matter of ownership and sovereignty over land, Caleb Lyon, the second governor of Idaho, negotiated with the Boise Valley Shoshone Tribe, and concluded the \"Treaty of Fort Boise\" on October 10, 1864.[22] This treaty stipulated that the tribe will give up lands to 30 miles on each side of Boise River, land upon which Boise is located, while allowing an equal right to fishing in the river to both the Shoshone and the settlers. The treaty has not been ratified by the US senate to this date, and the tribe hasn't ever received any treaty payments.[23] \n",
      "Backlash from the perceived friendliness of Caleb Lyon in his dealing with the tribes led to an escalation of pressure and agitation among the White Settlers in Boise and the print media in the city, in demanding either genocide or removal of the tribes. Settler violence against Boise Valley native tribes increased considerably, with some going as far introducing bounties to murder any native.[24] Idaho Statesman, the daily newspaper of Boise, which started publishing in 1864, reflected many such incitements and demands: \n",
      "...that the military should continue killing Indians 'until the last Indian in the Territories was either on his reservation or enriched the sagebrush with his decaying carcass.' ...if the Indians refused to move there, 'they will be killed or put on the reservation by force, and certainly shot if they don't stay there.' Furthermore, the editor continues, 'The idea that the Indians have any right to the soil is ridiculous. ...They have no more rights to the soil of the Territories of the United States than wolves or coyotes...'\n",
      "— David B. Madsen's quotation of the opinion column in Idaho Statesman on July 29, 1867, [24]\n",
      "This would be our plan of establishing friendship upon an eternal basis with our Indians: Let all the hostile bands of Idaho Territory be called in (they will not be caught in any other manner) to attend a grand treaty; plenty of blankets and nice little trinkets distributed among them; plenty of grub on hand; have a real jolly time with them; then just before the big feast put strychnine in their meat and poison to death the last mother's son of them.\n",
      "— A \"Letter to the editor\" that was printed in the Idaho Statesman newspaper on October 6, 1867, [24]\n",
      "At the same time, native warriors around the valley, under the leadership of Howluck also known as \"Bigfoot\" among white settlers, among others, waged an escalating and intensified guerrilla campaign of harassment of passerby caravans along the Oregon Trail. The United States Army also escalated and intensified \"punitive expeditions\" against formations of warriors and against civilian communities as well. This marked the start of the \"unofficial\" Snake War in 1866.[24] This war lasted until 1868, and is statistically the deadliest of the Indian Wars in the West in terms of casualties. In the end, 1,762 men were counted as the casualties of this war from both sides.[25] \n",
      "In 1868, Fort Hall Indian Reservation was established in Southeastern Idaho, about 220 miles upstream, according to the terms of Fort Bridger Treaty. The Boise Valley Shoshone and Bannock Tribes were not party to this treaty. Nevertheless, in April 1869, the United States Military embarked on a campaign of \"Removal, rounding up of natives in the region including in and around Boise, and expelling them with cavalry escort to Fort Hall Indian Reservation. This period is known among the Shoshone and Bannock people as Idaho's Trail of Tears. Some of the natives managed to escape, and they ran to either Duck Valley or Fort McDermitt in Nevada.[26][27] \n",
      "Incorporation and growth\n",
      "[edit]\n",
      "Main Street in 1911 \n",
      "Boise's early growth was significantly driven by its role in supplying the nearby gold towns that sprung up in the 1860s northeast and then southwest\n",
      "\u001b[32m**********************************************************************\u001b[0m\n",
      "\n",
      "--------------------------------------------------------------------------------\n",
      "\u001b[31m\n",
      ">>>>>>>> USING AUTO REPLY...\u001b[0m\n",
      "\u001b[33mWebScraper\u001b[0m (to UserProxy):\n",
      "\n",
      "TERMINATE\n",
      "\n",
      "--------------------------------------------------------------------------------\n"
     ]
    }
   ],
   "source": [
    "url = 'https://en.wikipedia.org/wiki/Boise,_Idaho'\n",
    "chat_result = user_proxy_agent.initiate_chat(\n",
    "    scraper_agent,\n",
    "    message=f\"Can you scrape {url} for me?\",\n",
    "    summary_method=\"reflection_with_llm\")"
   ]
  },
  {
   "cell_type": "code",
   "execution_count": 22,
   "metadata": {},
   "outputs": [],
   "source": [
    "boise_idaho_wiki = chat_result.chat_history[-2]['content']"
   ]
  },
  {
   "cell_type": "code",
   "execution_count": 23,
   "metadata": {},
   "outputs": [
    {
     "data": {
      "text/plain": [
       "'Boise, Idaho - Wikipedia\\nBoise, Idaho\\nState capital city\\n\\t\\nIdaho State Capitol\\nUS Bank Building\\nEighth & Main\\nClearwater Analytics\\nJack\\'s Urban Meeting Place\\nAlbertsons Stadium\\n\\t\\nFlag\\nSeal\\nLogo\\n\\t\\nNickname: \\nThe City of Trees\\n\\t\\nMotto: \\nEnergy Peril Success\\n\\t\\nLocation within Ada County in Idaho\\n\\t\\nBoise\\nLocation within the United States\\nShow map of IdahoShow map of the United StatesShow all\\n\\t\\nCoordinates: 43°36′57″N 116°12′6″W / 43.61583°N 116.20167°W\\t\\nCountryUnited States\\t\\nStateIdaho\\t\\nCountyAda\\t\\nFounded1863\\t\\nIncorporated1864\\t\\nGovernment\\n• TypeStrong-mayor\\t\\n• BodyBoise City Council\\t\\n• MayorLauren McLean (D)\\t\\n• Council PresidentColin Nash\\t\\nArea\\n[1]\\n• State capital city85.00 sq mi (219.45 km2)\\t\\n• Land84.03 sq mi (216.96 km2)\\t\\n• Water0.97 sq mi (2.49 km2)\\t\\nElevation\\n[2]\\n2,700 ft (823 m)\\t\\nPopulation\\n(2020)[3]\\n• State capital city235,684\\t\\n• RankU.S.: 94th ID: 1st\\t\\n• Density2,860.54/sq mi (1,055.28/km2)\\t\\n• Urban433,180 (US: 94th)\\t\\n• Urban density3,111.2/sq mi (1,201.3/km2)\\t\\n• Metro764,718 (US: 75th)\\t\\nDemonymBoisean\\t\\nTime zoneUTC−7 (MST)\\t\\n• Summer (DST)UTC−6 (MDT)\\t\\nZIP codes\\n83701-83709, 83711-83717, 83719-83720, 83722, 83724-83726, 83728-83729, 83732, 83735, 83756, 83799\\n\\t\\nArea code(s)208, 986\\t\\nFIPS code16-08830\\t\\nGNIS feature ID400590\\t\\nWebsitewww.cityofboise.org\\t\\nBoise ( BOY-see,[5] is the capital and most populous city in the U.S. state of Idaho and is the county seat of Ada County. As of the 2020 census, there were 235,684 people residing in the city. On the Boise River in southwestern Idaho, it is 41 miles (66 km) east of the Oregon border and 110 miles (177 km) north of the Nevada border. The downtown area\\'s elevation is 2,704 feet (824 m) above sea level. \\nThe Boise metropolitan area, also known as the Treasure Valley, includes five counties with a combined population of 749,202, the most populous metropolitan area in Idaho. It contains the state\\'s three largest cities: Boise, Nampa, and Meridian. The Boise–Nampa Metropolitan Statistical Area is the 77th most populous metropolitan statistical area in the United States. \\nDowntown Boise is the cultural center and home to many small businesses alongside a number of high-rise buildings. The area has a variety of shops and restaurants. Centrally, 8th Street contains a pedestrian zone with sidewalk cafes and restaurants. The neighborhood has many local restaurants, bars, and boutiques. The area also contains the Basque Block, which showcases Boise\\'s Basque heritage. Downtown Boise\\'s main attractions include the Idaho State Capitol, the classic Egyptian Theatre on the corner of Capitol Boulevard and Main Street, the Boise Art Museum on Capitol in front of Julia Davis Park, and Zoo Boise on the grounds of Julia Davis Park. \\n\\t\\nThis section needs expansion. You can help by adding to it. (September 2021)\\n\\t\\nFloating the Boise River \\nThe origin of the name is uncertain. One account credits Capt. B. L. E. Bonneville of the U.S. Army as its source. After trekking for weeks through dry and rough terrain, his exploration party reached an overlook with a view of the Boise River Valley. The place where they stood is called Bonneville Point, located on the Oregon Trail east of the city. According to the story, a French-speaking guide, overwhelmed by the sight of the verdant river, yelled \"Les bois! Les bois!\" (\"The woods! The woods!\")—and the name stuck. \\nThe name may also derive from earlier mountain men who named the river that flows through the city. In the 1820s, French Canadian fur trappers associated with the British-owned Hudson\\'s Bay Company set trap lines in the vicinity. Set in a high-desert area, the tree-lined valley of the Boise River became a distinct landmark, an oasis dominated by cottonwood trees. This led the French trappers to call the area \"la rivière boisée\" (\"the wooded river\").[6] \\nMost local and longtime residents use the pronunciation /ˈbɔɪsiː/ (BOY-see),[7] as given on the city\\'s website.[5] The pronunciation is sometimes used as a shibboleth, as outsiders (and newcomers) tend to mispronounce the city\\'s name as /ˈbɔɪziː/ (BOY-zee).[8][9] In French, the name of the city is pronounced /ˈbwaz/ (Bwaz).[10] \\nTribes and First Contact\\n[edit]\\nThe area of Boise valley was inhabited by Boise Valley Shoshone and Bannock tribes, a part of the \"Snake Country\". According to the City of Boise\\'s \"History of Boise\" report, \"they gathered annually in the valley to participate in trading rendezvous with other tribes and catch salmon in the Boise River runs to help sustain them year-round. They spent winters in the valley where the climate was milder and visited the hot springs for bathing and healing. Castle Rock, called Eagle Rock by the tribes, was and remains a sacred site.\"[11] \\nBoise Valley Shoshone belonged to the \"Yahandeka\" (groundhog eaters) grouping. They were among the early mounted Shoshone bands. They traveled over a considerable range by the beginning of the nineteenth century, with their main hunting lands along the lower Boise River and Payette River. When Donald MacKenzie developed the Snake country fur trade after 1818, the most prominent of the Boise Shoshone, Peiem (a Shoshoni rendition of \"Big Jim\", their leader\\'s English name), became the most influential leader of the large composite Shoshoni band that white trappers regularly encountered in the Snake Country. \\nIn 1811, Wilson Hunt, employed as an agent in the fur trade under John Jacob Astor, organized and led the greater part of a group of about 60 men[12] on an overland expedition to establish a fur trading outpost at the mouth of the Columbia River.[12][13] This expedition passed through the Boise valley, and was the first ever time a white American has entered the region.[14][15] Because of the War of 1812 and the lack of U.S. fur trading posts in the Pacific Northwest, most of the route was not used in the following two decades, and thus Snake Country remained free of settler incursions. \\nAfter the conclusion of the war of 1812, up until the 1840s, Oregon, while officially \"jointly administered\", was solely dominated by the British Hudson\\'s Bay Company (HBC), which had a land connection to the inland of the Canadian Prairies via York Factory Express. Snake Country, including Boise Valley remained independent and relatively free of settler passage and incursion. This was due to two main reasons. Firstly, the general region to the East of the Cascades and west of Rockies at the time, was described in the media and literature of Eastern US as the \"Great American Desert\", an arid unproductive region, unsuitable for habitation.[16][17] Thus the region of Boise itself was of no interest to settlers. Oregon Country, on the other side of the Cascades, was however a desirable destination for settlers. Nevertheless, the British had an official policy of discouraging American settlers. Thus, settler incursions into Boise Valley along the Oregon Trail remained low, until early 1840s. \\nThe HBC established a fort in the region, the Old Fort Boise, 40 miles (64 km) west, near Parma, down the Boise River near its confluence with the Snake River at the Oregon border. They were present in the fort until 1844, handing the fort over to the United States Army afterwards. \\nStarting from early 1840s, developments further West, in modern Oregon, meant significant changes to the region of Boise. At this time, HBC and the British started moving their operations further North into British Columbia, while there was a slow and steady rise in number of settlers in Oregon Country, who demanded annexation. These developments eventually culminated in Oregon Treaty, in which the British gave the region up to the US, thus ending the era of \"Joint occupation\". This meant that Boise valley and much of Snake Country was claimed as Oregon Territory. \\nWith the discovery of gold in California in 1848 and the passage of Donation Land Claim Act, the settler incursions increased exponentially. The increased settler incursions through Shoshone and Bannock territories, and their increased exploitation of the valley\\'s game and resources on their trip, resulted in an increasing sense of frustration among the Indigenous bands along the entire Oregon Trail. Thus, starting from early 1850s, to deter settler caravans from using the route and trespassing on their lands, Native peoples along the entire length of the trail, from modern Eastern Idaho to modern Central Oregon started staging low intensity attacks against passing caravans.[18][19] \\nOne such attack, referred to as \"Ward Massacre\", was in Boise Valley, about 20 Miles to the West of modern Boise. On August 20, 1854, Alexander Ward\\'s five-wagon caravan of 20 emigrants was passing through, when a group of Shoshone and Bannock warriors ambushed the caravan. The goal of the ambush was initially to take away the horses of the caravan. However, shooting of one of the Shoshone warriors with a revolver, resulted in the killing of everyone except for two of Alexander Ward\\'s children by the Shoshone warriors.[20] In response, the United States Army launched the Winnas Expedition, which involved raids on Native encampments for a period of several months during Summer of 1855. In the period between 1846 and 1856, 700 white settlers were killed along the entire length of Oregon Trail due to attacks and raids by Native warriors on their caravans while intruding native land. American military intrusion and retaliation only further angered the native tribes and escalated the conflict, which forced the United States Army to abandon Old Fort Boise. Intensified attacks against passing caravans made travel impossible for settlers except with US Army escort, which started from 1858. \\nDiscovery of gold and silver\\n[edit]\\nThe decline of the California gold rush prompted white settlers to search for gold elsewhere, including much of Idaho. The 1860 discovery of gold in Nez Perce territory near Pierce, Idaho and the resultant arrival of settlers raised tensions significantly.[21] In September of that year, the Utter Party Massacre happened about 100 miles Southeast of Boise, where 29 out of a group of 44 settlers were either killed or captured in an intense and organized ambush. \\nThe discovery of gold around the Boise valley in 1863, together with ongoing fighting prompted the US Military to establish a new Fort Boise, where Boise is located today. The new location was selected because it was near the intersection of the Oregon Trail with a major road connecting the Boise Basin (Idaho City) and the Owyhee (Silver City) mining areas, both of which were booming. That year, the United States established Idaho Territory, whose boundaries included this region. After a year, with the creation of Montana Territory, Boise was made the territorial capital of a much reduced Idaho in a controversial decision which overturned a district court ruling by a one-vote majority in the territorial supreme court along geographic lines in 1866. There was no treaty and no agreement with any of the native tribes up to this point, and the violent resistance against incursion and settlement onto their territory along the Oregon Trail and at the newly-found gold mines continued unabated. In order to resolve the matter of ownership and sovereignty over land, Caleb Lyon, the second governor of Idaho, negotiated with the Boise Valley Shoshone Tribe, and concluded the \"Treaty of Fort Boise\" on October 10, 1864.[22] This treaty stipulated that the tribe will give up lands to 30 miles on each side of Boise River, land upon which Boise is located, while allowing an equal right to fishing in the river to both the Shoshone and the settlers. The treaty has not been ratified by the US senate to this date, and the tribe hasn\\'t ever received any treaty payments.[23] \\nBacklash from the perceived friendliness of Caleb Lyon in his dealing with the tribes led to an escalation of pressure and agitation among the White Settlers in Boise and the print media in the city, in demanding either genocide or removal of the tribes. Settler violence against Boise Valley native tribes increased considerably, with some going as far introducing bounties to murder any native.[24] Idaho Statesman, the daily newspaper of Boise, which started publishing in 1864, reflected many such incitements and demands: \\n...that the military should continue killing Indians \\'until the last Indian in the Territories was either on his reservation or enriched the sagebrush with his decaying carcass.\\' ...if the Indians refused to move there, \\'they will be killed or put on the reservation by force, and certainly shot if they don\\'t stay there.\\' Furthermore, the editor continues, \\'The idea that the Indians have any right to the soil is ridiculous. ...They have no more rights to the soil of the Territories of the United States than wolves or coyotes...\\'\\n— David B. Madsen\\'s quotation of the opinion column in Idaho Statesman on July 29, 1867, [24]\\nThis would be our plan of establishing friendship upon an eternal basis with our Indians: Let all the hostile bands of Idaho Territory be called in (they will not be caught in any other manner) to attend a grand treaty; plenty of blankets and nice little trinkets distributed among them; plenty of grub on hand; have a real jolly time with them; then just before the big feast put strychnine in their meat and poison to death the last mother\\'s son of them.\\n— A \"Letter to the editor\" that was printed in the Idaho Statesman newspaper on October 6, 1867, [24]\\nAt the same time, native warriors around the valley, under the leadership of Howluck also known as \"Bigfoot\" among white settlers, among others, waged an escalating and intensified guerrilla campaign of harassment of passerby caravans along the Oregon Trail. The United States Army also escalated and intensified \"punitive expeditions\" against formations of warriors and against civilian communities as well. This marked the start of the \"unofficial\" Snake War in 1866.[24] This war lasted until 1868, and is statistically the deadliest of the Indian Wars in the West in terms of casualties. In the end, 1,762 men were counted as the casualties of this war from both sides.[25] \\nIn 1868, Fort Hall Indian Reservation was established in Southeastern Idaho, about 220 miles upstream, according to the terms of Fort Bridger Treaty. The Boise Valley Shoshone and Bannock Tribes were not party to this treaty. Nevertheless, in April 1869, the United States Military embarked on a campaign of \"Removal, rounding up of natives in the region including in and around Boise, and expelling them with cavalry escort to Fort Hall Indian Reservation. This period is known among the Shoshone and Bannock people as Idaho\\'s Trail of Tears. Some of the natives managed to escape, and they ran to either Duck Valley or Fort McDermitt in Nevada.[26][27] \\nIncorporation and growth\\n[edit]\\nMain Street in 1911 \\nBoise\\'s early growth was significantly driven by its role in supplying the nearby gold towns that sprung up in the 1860s northeast and then southwest'"
      ]
     },
     "execution_count": 23,
     "metadata": {},
     "output_type": "execute_result"
    }
   ],
   "source": [
    "boise_idaho_wiki"
   ]
  },
  {
   "cell_type": "code",
   "execution_count": 24,
   "metadata": {},
   "outputs": [],
   "source": [
    "with open(\"boise_idaho_wiki_content.txt\", \"w\", encoding=\"utf-8\") as file:\n",
    "    file.write(boise_idaho_wiki)"
   ]
  },
  {
   "cell_type": "markdown",
   "metadata": {},
   "source": [
    "## Perform RAG on the Scraped Wiki File"
   ]
  },
  {
   "cell_type": "code",
   "execution_count": 25,
   "metadata": {},
   "outputs": [],
   "source": [
    "# from autogen.agentchat.contrib.retrieve_assistant_agent import RetrieveAssistantAgent\n",
    "from autogen import AssistantAgent\n",
    "from autogen.agentchat.contrib.retrieve_user_proxy_agent import RetrieveUserProxyAgent\n",
    "import chromadb\n",
    "\n",
    "DOC_PATH = [\"./boise_idaho_wiki_content.txt\"]"
   ]
  },
  {
   "cell_type": "code",
   "execution_count": 26,
   "metadata": {},
   "outputs": [],
   "source": [
    "llm_config = {'config_list': [{'model': 'gpt-3.5-turbo', 'api_key': os.environ[\"OPENAI_API_KEY\"]}], 'timeout': 60, 'cache_seed': 88, 'temperature': 0}"
   ]
  },
  {
   "cell_type": "code",
   "execution_count": 27,
   "metadata": {},
   "outputs": [
    {
     "name": "stdout",
     "output_type": "stream",
     "text": [
      "[autogen.oai.client: 09-20 19:19:39] {184} WARNING - The API key specified is not a valid OpenAI format; it won't work with the OpenAI-hosted model.\n"
     ]
    }
   ],
   "source": [
    "assistant = AssistantAgent(\n",
    "    name=\"assistant\",\n",
    "    human_input_mode=\"NEVER\",\n",
    "    system_message=\"You are a helpful assistant.\",\n",
    "    llm_config=llm_config\n",
    ")\n",
    "        \n",
    "ragproxyagent = RetrieveUserProxyAgent(\n",
    "    name=\"ragproxyagent\",\n",
    "    human_input_mode=\"NEVER\",\n",
    "    retrieve_config={\n",
    "        \"task\": \"qa\",\n",
    "        \"docs_path\": DOC_PATH,\n",
    "        \"chunk_token_size\": 1000,\n",
    "        \"model\": llm_config_dict[\"config_list\"][0][\"model\"],\n",
    "        \"client\": chromadb.PersistentClient(path=\"/tmp/chromadb\"),\n",
    "        \"collection_name\": \"boise_idaho\",\n",
    "        \"get_or_create\": True, # if True, will create/return a collection for the retrieve chat.\n",
    "    },\n",
    "    code_execution_config={\"use_docker\": False}\n",
    ")"
   ]
  },
  {
   "cell_type": "code",
   "execution_count": 28,
   "metadata": {},
   "outputs": [
    {
     "name": "stderr",
     "output_type": "stream",
     "text": [
      "2024-09-20 19:19:39,294 - autogen.agentchat.contrib.retrieve_user_proxy_agent - INFO - \u001b[32mUse the existing collection `boise_idaho`.\u001b[0m\n",
      "max_tokens is too small to fit a single line of text. Breaking this line:\n",
      "\t\t ...\n",
      "Failed to split docs with must_break_at_empty_line being True, set to False.\n",
      "2024-09-20 19:19:39,310 - autogen.agentchat.contrib.retrieve_user_proxy_agent - INFO - Found 7 chunks.\u001b[0m\n"
     ]
    },
    {
     "name": "stdout",
     "output_type": "stream",
     "text": [
      "Trying to create collection.\n",
      "VectorDB returns doc_ids:  [['e495c059']]\n",
      "\u001b[32mAdding content of doc e495c059 to context.\u001b[0m\n"
     ]
    }
   ],
   "source": [
    "prompt = \"What is the population of Boise, Idaho?\"\n",
    "res = ragproxyagent.initiate_chat(assistant, message=ragproxyagent.message_generator, problem=prompt, n_results=1, silent=True)"
   ]
  },
  {
   "cell_type": "code",
   "execution_count": 29,
   "metadata": {},
   "outputs": [
    {
     "name": "stdout",
     "output_type": "stream",
     "text": [
      "Question:What is the population of Boise, Idaho?\n",
      "Answer from RAG: The population of Boise, Idaho is 235,684 as of the 2020 census.\n"
     ]
    }
   ],
   "source": [
    "print(f\"Question:{prompt}\")\n",
    "print(f\"Answer from RAG: {res.chat_history[-1]['content']}\")"
   ]
  },
  {
   "cell_type": "markdown",
   "metadata": {},
   "source": [
    "# Group Chat \n",
    "Up to this point, we have encountered conversation patterns that include either two agents or a series of two-agent interactions. AutoGen introduces a broader conversation model known as group chat, which includes more than two agents. The fundamental concept of group chat is that all agents participate in a unified conversation thread and share the same context. This approach is beneficial for tasks that necessitate collaboration among several agents."
   ]
  },
  {
   "cell_type": "markdown",
   "metadata": {},
   "source": [
    "Add Image Here from Autogen docs :\n"
   ]
  },
  {
   "cell_type": "markdown",
   "metadata": {},
   "source": [
    "A group chat is orchestrated by a special agent type GroupChatManager. In the first step of the group chat, the Group Chat Manager selects an agent to speak. Then, the selected agent speaks and the message is sent back to the Group Chat Manager, who broadcasts the message to all other agents in the group. This process repeats until the conversation stops.\n",
    "\n",
    "The Group Chat Manager can use several strategies to select the next agent. Currently, the following strategies are supported:\n",
    "\n",
    "round_robin: The Group Chat Manager selects agents in a round-robin fashion based on the order of the agents provided.\n",
    "random: The Group Chat Manager selects agents randomly.\n",
    "manual: The Group Chat Manager selects agents by asking for human input.\n",
    "auto: The default strategy, which selects agents using the Group Chat Manager’s LLM."
   ]
  },
  {
   "cell_type": "markdown",
   "metadata": {},
   "source": [
    "TODO : Use Group chat with auto strategy, define multiple agents all having access to web search tool or may be some other tool , each agent has independent persona and contributes to a group chat to create final report for user.\n",
    "\n",
    "\n",
    "We can create 3 or more agents each having different personas and access to web search tool and a RAG tool? : \n",
    "for e.g, Economist persona\n",
    "Environmentalist persona\n",
    "Capatalist persona\n",
    "May be add few more agents with different persona or having access to more tools.\n",
    "\n",
    "Sample usecases : \n",
    "Impacts of asteroid impact on the world. \n",
    "Impacts of world war3 on the world. NOTE : We can change the usecase to something else but code structure can stay same.\n",
    "\n",
    "Create final report for user on above usecase."
   ]
  },
  {
   "cell_type": "code",
   "execution_count": 30,
   "metadata": {},
   "outputs": [
    {
     "ename": "NameError",
     "evalue": "name 'adder_agent' is not defined",
     "output_type": "error",
     "traceback": [
      "\u001b[1;31m---------------------------------------------------------------------------\u001b[0m",
      "\u001b[1;31mNameError\u001b[0m                                 Traceback (most recent call last)",
      "Cell \u001b[1;32mIn[30], line 3\u001b[0m\n\u001b[0;32m      1\u001b[0m \u001b[38;5;66;03m# The `description` attribute is a string that describes the agent.\u001b[39;00m\n\u001b[0;32m      2\u001b[0m \u001b[38;5;66;03m# It can also be set in `ConversableAgent` constructor.\u001b[39;00m\n\u001b[1;32m----> 3\u001b[0m \u001b[43madder_agent\u001b[49m\u001b[38;5;241m.\u001b[39mdescription \u001b[38;5;241m=\u001b[39m \u001b[38;5;124m\"\u001b[39m\u001b[38;5;124mAdd 1 to each input number.\u001b[39m\u001b[38;5;124m\"\u001b[39m\n\u001b[0;32m      4\u001b[0m multiplier_agent\u001b[38;5;241m.\u001b[39mdescription \u001b[38;5;241m=\u001b[39m \u001b[38;5;124m\"\u001b[39m\u001b[38;5;124mMultiply each input number by 2.\u001b[39m\u001b[38;5;124m\"\u001b[39m\n\u001b[0;32m      5\u001b[0m subtracter_agent\u001b[38;5;241m.\u001b[39mdescription \u001b[38;5;241m=\u001b[39m \u001b[38;5;124m\"\u001b[39m\u001b[38;5;124mSubtract 1 from each input number.\u001b[39m\u001b[38;5;124m\"\u001b[39m\n",
      "\u001b[1;31mNameError\u001b[0m: name 'adder_agent' is not defined"
     ]
    }
   ],
   "source": [
    "# The `description` attribute is a string that describes the agent.\n",
    "# It can also be set in `ConversableAgent` constructor.\n",
    "adder_agent.description = \"Add 1 to each input number.\"\n",
    "multiplier_agent.description = \"Multiply each input number by 2.\"\n",
    "subtracter_agent.description = \"Subtract 1 from each input number.\"\n",
    "divider_agent.description = \"Divide each input number by 2.\"\n",
    "number_agent.description = \"Return the numbers given.\"\n",
    "\n",
    "from autogen import GroupChat\n",
    "from autogen import GroupChatManager\n",
    "\n",
    "group_chat = GroupChat(\n",
    "    agents=[adder_agent, multiplier_agent, subtracter_agent, divider_agent, number_agent],\n",
    "    messages=[],\n",
    "    max_round=6,\n",
    ")\n",
    "group_chat_manager = GroupChatManager(\n",
    "    groupchat=group_chat,\n",
    "    llm_config=llm_config_dict,\n",
    ")\n",
    "\n",
    "chat_result = number_agent.initiate_chat(\n",
    "    group_chat_manager,\n",
    "    message=\"My number is 3, I want to turn it into 13.\",\n",
    "    summary_method=\"reflection_with_llm\",\n",
    ")"
   ]
  },
  {
   "cell_type": "code",
   "execution_count": null,
   "metadata": {},
   "outputs": [
    {
     "name": "stdout",
     "output_type": "stream",
     "text": [
      "The number 3 was transformed into 13 by adding 4, multiplying by 8, dividing by 1.5, subtracting 2, and then adding 12, dividing by 6.5, subtracting 3, and subtracting 7.\n"
     ]
    }
   ],
   "source": [
    "print(chat_result.summary)"
   ]
  },
  {
   "cell_type": "markdown",
   "metadata": {},
   "source": [
    "If time and bandwidth permits,we can also do a combination of nested chat with group chat manager. "
   ]
  }
 ],
 "metadata": {
  "kernelspec": {
   "display_name": ".venv",
   "language": "python",
   "name": "python3"
  },
  "language_info": {
   "codemirror_mode": {
    "name": "ipython",
    "version": 3
   },
   "file_extension": ".py",
   "mimetype": "text/x-python",
   "name": "python",
   "nbconvert_exporter": "python",
   "pygments_lexer": "ipython3",
   "version": "3.12.5"
  }
 },
 "nbformat": 4,
 "nbformat_minor": 2
}
