{
 "cells": [
  {
   "cell_type": "markdown",
   "metadata": {},
   "source": [
    "Blurb from proposal : In a multi-agent system individual agents with different personas can communicate, collaborate, add additional context, and do work in parallel. They often have special rules for how to work as a team, decide things together, and handle disagreements."
   ]
  },
  {
   "cell_type": "markdown",
   "metadata": {},
   "source": [
    "Disclaimer (We can Remove or modify this once we rename the agents to build on our complex usecase): This notebooks uses and explains code snippets from Autogen Official Docs to demonstrate various Multi-Agent Usecases along with important concepts. Please refer to https://microsoft.github.io/autogen/docs/ for information."
   ]
  },
  {
   "cell_type": "code",
   "execution_count": null,
   "metadata": {},
   "outputs": [],
   "source": [
    "#Install packages\n",
    "# !pip install pyautogen\n",
    "# !pip install openai"
   ]
  },
  {
   "cell_type": "code",
   "execution_count": 22,
   "metadata": {},
   "outputs": [],
   "source": [
    "import os\n",
    "from dotenv import load_dotenv\n",
    "\n",
    "load_dotenv()\n",
    "# Save your OPENAI_API_KEY in a .env file in the same directory as this script\n",
    "llm_config_dict = {\"config_list\": [{\"model\": \"gpt-3.5-turbo\", \"api_key\": os.environ[\"OPENAI_API_KEY\"]}]}"
   ]
  },
  {
   "cell_type": "code",
   "execution_count": null,
   "metadata": {},
   "outputs": [],
   "source": [
    "# Construct a Single Agent and Run it"
   ]
  },
  {
   "cell_type": "code",
   "execution_count": null,
   "metadata": {},
   "outputs": [],
   "source": []
  },
  {
   "cell_type": "code",
   "execution_count": null,
   "metadata": {},
   "outputs": [],
   "source": [
    "# Construct a Single Agent with Persona and Run it"
   ]
  },
  {
   "cell_type": "code",
   "execution_count": null,
   "metadata": {},
   "outputs": [],
   "source": []
  },
  {
   "cell_type": "code",
   "execution_count": null,
   "metadata": {},
   "outputs": [],
   "source": [
    "# Construct a Single Agent with a tool and a Persona and Run it"
   ]
  },
  {
   "cell_type": "code",
   "execution_count": null,
   "metadata": {},
   "outputs": [],
   "source": []
  },
  {
   "cell_type": "markdown",
   "metadata": {},
   "source": [
    "# Two-agent chat: the simplest form of conversation pattern where two agents chat with each other using Autogen."
   ]
  },
  {
   "cell_type": "code",
   "execution_count": 23,
   "metadata": {},
   "outputs": [
    {
     "name": "stdout",
     "output_type": "stream",
     "text": [
      "[autogen.oai.client: 09-18 14:03:39] {184} WARNING - The API key specified is not a valid OpenAI format; it won't work with the OpenAI-hosted model.\n",
      "[autogen.oai.client: 09-18 14:03:39] {184} WARNING - The API key specified is not a valid OpenAI format; it won't work with the OpenAI-hosted model.\n",
      "\u001b[33mStudent_Agent\u001b[0m (to Teacher_Agent):\n",
      "\n",
      "What is triangle inequality?\n",
      "\n",
      "--------------------------------------------------------------------------------\n",
      "\u001b[31m\n",
      ">>>>>>>> USING AUTO REPLY...\u001b[0m\n",
      "\u001b[33mTeacher_Agent\u001b[0m (to Student_Agent):\n",
      "\n",
      "The triangle inequality states that in a triangle, the sum of the lengths of any two sides must be greater than the length of the third side. In other words, if a, b, and c are the side lengths of a triangle, then the following must hold true:\n",
      "\n",
      "a + b > c\n",
      "b + c > a\n",
      "a + c > b\n",
      "\n",
      "If any one of these inequalities is not satisfied, then the three sides do not form a triangle.\n",
      "\n",
      "--------------------------------------------------------------------------------\n",
      "\u001b[31m\n",
      ">>>>>>>> USING AUTO REPLY...\u001b[0m\n",
      "\u001b[33mStudent_Agent\u001b[0m (to Teacher_Agent):\n",
      "\n",
      "Thank you for explaining the triangle inequality to me. It helps me understand how to determine if a set of three side lengths can form a triangle.\n",
      "\n",
      "--------------------------------------------------------------------------------\n",
      "\u001b[31m\n",
      ">>>>>>>> USING AUTO REPLY...\u001b[0m\n",
      "\u001b[33mTeacher_Agent\u001b[0m (to Student_Agent):\n",
      "\n",
      "You're welcome! I'm glad the explanation was helpful. Understanding the triangle inequality is important in geometry, as it enables us to determine whether a given set of side lengths can form a triangle. Feel free to ask if you have any more questions or if you need further clarification on any math concept.\n",
      "\n",
      "--------------------------------------------------------------------------------\n"
     ]
    }
   ],
   "source": [
    "import os\n",
    "\n",
    "from autogen import ConversableAgent\n",
    "\n",
    "student_agent = ConversableAgent(\n",
    "    name=\"Student_Agent\",\n",
    "    system_message=\"You are a student willing to learn.\",\n",
    "    llm_config=llm_config_dict,\n",
    ")\n",
    "teacher_agent = ConversableAgent(\n",
    "    name=\"Teacher_Agent\",\n",
    "    system_message=\"You are a math teacher.\",\n",
    "    llm_config=llm_config_dict,\n",
    ")\n",
    "\n",
    "chat_result = student_agent.initiate_chat(\n",
    "    teacher_agent,\n",
    "    message=\"What is triangle inequality?\",\n",
    "    summary_method=\"reflection_with_llm\",\n",
    "    max_turns=2,\n",
    ")"
   ]
  },
  {
   "cell_type": "markdown",
   "metadata": {},
   "source": [
    "Let's look at the summary. It is contained within the chat_result object of type ChatResult, which was returned by the initiate_chat method."
   ]
  },
  {
   "cell_type": "code",
   "execution_count": 13,
   "metadata": {},
   "outputs": [
    {
     "name": "stdout",
     "output_type": "stream",
     "text": [
      "The triangle inequality states that in a triangle, the sum of the lengths of any two sides must be greater than the length of the third side. This condition helps determine if a given set of side lengths can form a triangle.\n"
     ]
    }
   ],
   "source": [
    "print(chat_result.summary)"
   ]
  },
  {
   "cell_type": "markdown",
   "metadata": {},
   "source": [
    "In the given example, the summary method is configured to reflection_with_llm, which processes a list of conversation messages and summarizes them by invoking an LLM. Initially, the summary method attempts to utilize the recipient’s LLM; if it is unavailable, it defaults to the sender’s LLM. Here, the recipient is “Teacher_Agent” and the sender is “Student_Agent”. The input prompt for the LLM is the following default prompt:"
   ]
  },
  {
   "cell_type": "code",
   "execution_count": 14,
   "metadata": {},
   "outputs": [
    {
     "name": "stdout",
     "output_type": "stream",
     "text": [
      "Summarize the takeaway from the conversation. Do not add any introductory phrases.\n"
     ]
    }
   ],
   "source": [
    "print(ConversableAgent.DEFAULT_SUMMARY_PROMPT)"
   ]
  },
  {
   "cell_type": "markdown",
   "metadata": {},
   "source": [
    "# Sequential chat: \n",
    "a series of conversations between two agents, linked by a carryover mechanism that transfers the summary of the prior chat to the context of the subsequent chat."
   ]
  },
  {
   "cell_type": "code",
   "execution_count": 17,
   "metadata": {},
   "outputs": [
    {
     "name": "stdout",
     "output_type": "stream",
     "text": [
      "[autogen.oai.client: 09-18 14:01:14] {184} WARNING - The API key specified is not a valid OpenAI format; it won't work with the OpenAI-hosted model.\n",
      "[autogen.oai.client: 09-18 14:01:14] {184} WARNING - The API key specified is not a valid OpenAI format; it won't work with the OpenAI-hosted model.\n",
      "[autogen.oai.client: 09-18 14:01:15] {184} WARNING - The API key specified is not a valid OpenAI format; it won't work with the OpenAI-hosted model.\n",
      "[autogen.oai.client: 09-18 14:01:15] {184} WARNING - The API key specified is not a valid OpenAI format; it won't work with the OpenAI-hosted model.\n",
      "[autogen.oai.client: 09-18 14:01:16] {184} WARNING - The API key specified is not a valid OpenAI format; it won't work with the OpenAI-hosted model.\n"
     ]
    }
   ],
   "source": [
    "# The Number Agent always returns the same numbers.\n",
    "number_agent = ConversableAgent(\n",
    "    name=\"Number_Agent\",\n",
    "    system_message=\"You return me the numbers I give you, one number each line.\",\n",
    "    llm_config=llm_config_dict,\n",
    "    human_input_mode=\"NEVER\",\n",
    ")\n",
    "\n",
    "# The Adder Agent adds 1 to each number it receives.\n",
    "adder_agent = ConversableAgent(\n",
    "    name=\"Adder_Agent\",\n",
    "    system_message=\"You add 1 to each number I give you and return me the new numbers, one number each line.\",\n",
    "    llm_config=llm_config_dict,\n",
    "    human_input_mode=\"NEVER\",\n",
    ")\n",
    "\n",
    "# The Multiplier Agent multiplies each number it receives by 2.\n",
    "multiplier_agent = ConversableAgent(\n",
    "    name=\"Multiplier_Agent\",\n",
    "    system_message=\"You multiply each number I give you by 2 and return me the new numbers, one number each line.\",\n",
    "    llm_config=llm_config_dict,\n",
    "    human_input_mode=\"NEVER\",\n",
    ")\n",
    "\n",
    "# The Subtracter Agent subtracts 1 from each number it receives.\n",
    "subtracter_agent = ConversableAgent(\n",
    "    name=\"Subtracter_Agent\",\n",
    "    system_message=\"You subtract 1 from each number I give you and return me the new numbers, one number each line.\",\n",
    "    llm_config=llm_config_dict,\n",
    "    human_input_mode=\"NEVER\",\n",
    ")\n",
    "\n",
    "# The Divider Agent divides each number it receives by 2.\n",
    "divider_agent = ConversableAgent(\n",
    "    name=\"Divider_Agent\",\n",
    "    system_message=\"You divide each number I give you by 2 and return me the new numbers, one number each line.\",\n",
    "    llm_config=llm_config_dict,\n",
    "    human_input_mode=\"NEVER\",\n",
    ")"
   ]
  },
  {
   "cell_type": "code",
   "execution_count": 18,
   "metadata": {},
   "outputs": [
    {
     "name": "stdout",
     "output_type": "stream",
     "text": [
      "\u001b[34m\n",
      "********************************************************************************\u001b[0m\n",
      "\u001b[34mStarting a new chat....\u001b[0m\n",
      "\u001b[34m\n",
      "********************************************************************************\u001b[0m\n",
      "\u001b[33mNumber_Agent\u001b[0m (to Adder_Agent):\n",
      "\n",
      "14\n",
      "\n",
      "--------------------------------------------------------------------------------\n",
      "\u001b[33mAdder_Agent\u001b[0m (to Number_Agent):\n",
      "\n",
      "15\n",
      "\n",
      "--------------------------------------------------------------------------------\n",
      "\u001b[33mNumber_Agent\u001b[0m (to Adder_Agent):\n",
      "\n",
      "15\n",
      "\n",
      "--------------------------------------------------------------------------------\n",
      "\u001b[33mAdder_Agent\u001b[0m (to Number_Agent):\n",
      "\n",
      "16\n",
      "\n",
      "--------------------------------------------------------------------------------\n",
      "\u001b[34m\n",
      "********************************************************************************\u001b[0m\n",
      "\u001b[34mStarting a new chat....\u001b[0m\n",
      "\u001b[34m\n",
      "********************************************************************************\u001b[0m\n",
      "\u001b[33mNumber_Agent\u001b[0m (to Multiplier_Agent):\n",
      "\n",
      "These are my numbers\n",
      "Context: \n",
      "16\n",
      "\n",
      "--------------------------------------------------------------------------------\n",
      "\u001b[33mMultiplier_Agent\u001b[0m (to Number_Agent):\n",
      "\n",
      "32\n",
      "\n",
      "--------------------------------------------------------------------------------\n",
      "\u001b[33mNumber_Agent\u001b[0m (to Multiplier_Agent):\n",
      "\n",
      "You gave me the number 32.\n",
      "\n",
      "--------------------------------------------------------------------------------\n",
      "\u001b[33mMultiplier_Agent\u001b[0m (to Number_Agent):\n",
      "\n",
      "64\n",
      "\n",
      "--------------------------------------------------------------------------------\n",
      "\u001b[34m\n",
      "********************************************************************************\u001b[0m\n",
      "\u001b[34mStarting a new chat....\u001b[0m\n",
      "\u001b[34m\n",
      "********************************************************************************\u001b[0m\n",
      "\u001b[33mNumber_Agent\u001b[0m (to Subtracter_Agent):\n",
      "\n",
      "These are my numbers\n",
      "Context: \n",
      "16\n",
      "64\n",
      "\n",
      "--------------------------------------------------------------------------------\n",
      "\u001b[33mSubtracter_Agent\u001b[0m (to Number_Agent):\n",
      "\n",
      "Sure, here are the new numbers after subtracting 1 from each:\n",
      "\n",
      "15\n",
      "63\n",
      "\n",
      "--------------------------------------------------------------------------------\n",
      "\u001b[33mNumber_Agent\u001b[0m (to Subtracter_Agent):\n",
      "\n",
      "Thank you for subtracting 1 from each number.\n",
      "\n",
      "--------------------------------------------------------------------------------\n",
      "\u001b[33mSubtracter_Agent\u001b[0m (to Number_Agent):\n",
      "\n",
      "You're welcome! If you need any more assistance with numbers, feel free to ask.\n",
      "\n",
      "--------------------------------------------------------------------------------\n",
      "\u001b[34m\n",
      "********************************************************************************\u001b[0m\n",
      "\u001b[34mStarting a new chat....\u001b[0m\n",
      "\u001b[34m\n",
      "********************************************************************************\u001b[0m\n",
      "\u001b[33mNumber_Agent\u001b[0m (to Divider_Agent):\n",
      "\n",
      "These are my numbers\n",
      "Context: \n",
      "16\n",
      "64\n",
      "You're welcome! If you need any more assistance with numbers, feel free to ask.\n",
      "\n",
      "--------------------------------------------------------------------------------\n",
      "\u001b[33mDivider_Agent\u001b[0m (to Number_Agent):\n",
      "\n",
      "8\n",
      "32\n",
      "\n",
      "--------------------------------------------------------------------------------\n",
      "\u001b[33mNumber_Agent\u001b[0m (to Divider_Agent):\n",
      "\n",
      "Here are the numbers you provided:\n",
      "8\n",
      "32\n",
      "Thank you for sharing them with me. Let me know if there is anything else you need help with!\n",
      "\n",
      "--------------------------------------------------------------------------------\n",
      "\u001b[33mDivider_Agent\u001b[0m (to Number_Agent):\n",
      "\n",
      "You're welcome! If you have any more numbers to divide by 2 or any other math-related questions, feel free to ask.\n",
      "\n",
      "--------------------------------------------------------------------------------\n"
     ]
    }
   ],
   "source": [
    "# Start a sequence of two-agent chats.\n",
    "# Each element in the list is a dictionary that specifies the arguments\n",
    "# for the initiate_chat method.\n",
    "chat_results = number_agent.initiate_chats(\n",
    "    [\n",
    "        {\n",
    "            \"recipient\": adder_agent,\n",
    "            \"message\": \"14\",\n",
    "            \"max_turns\": 2,\n",
    "            \"summary_method\": \"last_msg\",\n",
    "        },\n",
    "        {\n",
    "            \"recipient\": multiplier_agent,\n",
    "            \"message\": \"These are my numbers\",\n",
    "            \"max_turns\": 2,\n",
    "            \"summary_method\": \"last_msg\",\n",
    "        },\n",
    "        {\n",
    "            \"recipient\": subtracter_agent,\n",
    "            \"message\": \"These are my numbers\",\n",
    "            \"max_turns\": 2,\n",
    "            \"summary_method\": \"last_msg\",\n",
    "        },\n",
    "        {\n",
    "            \"recipient\": divider_agent,\n",
    "            \"message\": \"These are my numbers\",\n",
    "            \"max_turns\": 2,\n",
    "            \"summary_method\": \"last_msg\",\n",
    "        },\n",
    "    ]\n",
    ")"
   ]
  },
  {
   "cell_type": "code",
   "execution_count": 19,
   "metadata": {},
   "outputs": [
    {
     "name": "stdout",
     "output_type": "stream",
     "text": [
      "First Chat Summary:  16\n",
      "Second Chat Summary:  64\n",
      "Third Chat Summary:  You're welcome! If you need any more assistance with numbers, feel free to ask.\n",
      "Fourth Chat Summary:  You're welcome! If you have any more numbers to divide by 2 or any other math-related questions, feel free to ask.\n"
     ]
    }
   ],
   "source": [
    "print(\"First Chat Summary: \", chat_results[0].summary)\n",
    "print(\"Second Chat Summary: \", chat_results[1].summary)\n",
    "print(\"Third Chat Summary: \", chat_results[2].summary)\n",
    "print(\"Fourth Chat Summary: \", chat_results[3].summary)"
   ]
  },
  {
   "cell_type": "markdown",
   "metadata": {},
   "source": [
    "TODO : ADD EXAMPLE OF How to use a tool with an agent in Autogen? Probably Websearch using Tavily or Bing search API keys. More info here : https://microsoft.github.io/autogen/docs/tutorial/tool-use "
   ]
  },
  {
   "cell_type": "code",
   "execution_count": null,
   "metadata": {},
   "outputs": [],
   "source": [
    "TODO : ADD EXAMPLE OF How to use RAG with autogen Agent?"
   ]
  },
  {
   "cell_type": "markdown",
   "metadata": {},
   "source": [
    "# Group Chat \n",
    "Up to this point, we have encountered conversation patterns that include either two agents or a series of two-agent interactions. AutoGen introduces a broader conversation model known as group chat, which includes more than two agents. The fundamental concept of group chat is that all agents participate in a unified conversation thread and share the same context. This approach is beneficial for tasks that necessitate collaboration among several agents."
   ]
  },
  {
   "cell_type": "markdown",
   "metadata": {},
   "source": [
    "Add Image Here from Autogen docs :\n"
   ]
  },
  {
   "cell_type": "markdown",
   "metadata": {},
   "source": [
    "A group chat is orchestrated by a special agent type GroupChatManager. In the first step of the group chat, the Group Chat Manager selects an agent to speak. Then, the selected agent speaks and the message is sent back to the Group Chat Manager, who broadcasts the message to all other agents in the group. This process repeats until the conversation stops.\n",
    "\n",
    "The Group Chat Manager can use several strategies to select the next agent. Currently, the following strategies are supported:\n",
    "\n",
    "round_robin: The Group Chat Manager selects agents in a round-robin fashion based on the order of the agents provided.\n",
    "random: The Group Chat Manager selects agents randomly.\n",
    "manual: The Group Chat Manager selects agents by asking for human input.\n",
    "auto: The default strategy, which selects agents using the Group Chat Manager’s LLM."
   ]
  },
  {
   "cell_type": "markdown",
   "metadata": {},
   "source": [
    "TODO : Use Group chat with auto strategy, define multiple agents all having access to web search tool or may be some other tool , each agent has independent persona and contributes to a group chat to create final report for user.\n",
    "\n",
    "\n",
    "We can create 3 or more agents each having different personas and access to web search tool and a RAG tool? : \n",
    "for e.g, Economist persona\n",
    "Environmentalist persona\n",
    "Capatalist persona\n",
    "May be add few more agents with different persona or having access to more tools.\n",
    "\n",
    "Sample usecases : \n",
    "Impacts of asteroid impact on the world. \n",
    "Impacts of world war3 on the world. NOTE : We can change the usecase to something else but code structure can stay same.\n",
    "\n",
    "Create final report for user on above usecase."
   ]
  },
  {
   "cell_type": "code",
   "execution_count": 20,
   "metadata": {},
   "outputs": [
    {
     "name": "stdout",
     "output_type": "stream",
     "text": [
      "[autogen.oai.client: 09-18 14:01:45] {184} WARNING - The API key specified is not a valid OpenAI format; it won't work with the OpenAI-hosted model.\n",
      "\u001b[33mNumber_Agent\u001b[0m (to chat_manager):\n",
      "\n",
      "My number is 3, I want to turn it into 13.\n",
      "\n",
      "--------------------------------------------------------------------------------\n",
      "[autogen.oai.client: 09-18 14:01:45] {184} WARNING - The API key specified is not a valid OpenAI format; it won't work with the OpenAI-hosted model.\n",
      "\u001b[32m\n",
      "Next speaker: Adder_Agent\n",
      "\u001b[0m\n",
      "\u001b[33mAdder_Agent\u001b[0m (to chat_manager):\n",
      "\n",
      "4\n",
      "\n",
      "--------------------------------------------------------------------------------\n",
      "[autogen.oai.client: 09-18 14:01:47] {184} WARNING - The API key specified is not a valid OpenAI format; it won't work with the OpenAI-hosted model.\n",
      "\u001b[32m\n",
      "Next speaker: Multiplier_Agent\n",
      "\u001b[0m\n",
      "\u001b[33mMultiplier_Agent\u001b[0m (to chat_manager):\n",
      "\n",
      "8\n",
      "\n",
      "--------------------------------------------------------------------------------\n",
      "[autogen.oai.client: 09-18 14:01:48] {184} WARNING - The API key specified is not a valid OpenAI format; it won't work with the OpenAI-hosted model.\n",
      "\u001b[32m\n",
      "Next speaker: Number_Agent\n",
      "\u001b[0m\n",
      "\u001b[33mNumber_Agent\u001b[0m (to chat_manager):\n",
      "\n",
      "3  \n",
      "13  \n",
      "4  \n",
      "8  \n",
      "\n",
      "--------------------------------------------------------------------------------\n",
      "[autogen.oai.client: 09-18 14:01:50] {184} WARNING - The API key specified is not a valid OpenAI format; it won't work with the OpenAI-hosted model.\n",
      "\u001b[32m\n",
      "Next speaker: Divider_Agent\n",
      "\u001b[0m\n",
      "\u001b[33mDivider_Agent\u001b[0m (to chat_manager):\n",
      "\n",
      "1.5  \n",
      "6.5  \n",
      "2  \n",
      "4  \n",
      "\n",
      "--------------------------------------------------------------------------------\n",
      "[autogen.oai.client: 09-18 14:01:51] {184} WARNING - The API key specified is not a valid OpenAI format; it won't work with the OpenAI-hosted model.\n",
      "\u001b[32m\n",
      "Next speaker: Subtracter_Agent\n",
      "\u001b[0m\n",
      "\u001b[33mSubtracter_Agent\u001b[0m (to chat_manager):\n",
      "\n",
      "2  \n",
      "12  \n",
      "3  \n",
      "7  \n",
      "\n",
      "--------------------------------------------------------------------------------\n"
     ]
    }
   ],
   "source": [
    "# The `description` attribute is a string that describes the agent.\n",
    "# It can also be set in `ConversableAgent` constructor.\n",
    "adder_agent.description = \"Add 1 to each input number.\"\n",
    "multiplier_agent.description = \"Multiply each input number by 2.\"\n",
    "subtracter_agent.description = \"Subtract 1 from each input number.\"\n",
    "divider_agent.description = \"Divide each input number by 2.\"\n",
    "number_agent.description = \"Return the numbers given.\"\n",
    "\n",
    "from autogen import GroupChat\n",
    "from autogen import GroupChatManager\n",
    "\n",
    "group_chat = GroupChat(\n",
    "    agents=[adder_agent, multiplier_agent, subtracter_agent, divider_agent, number_agent],\n",
    "    messages=[],\n",
    "    max_round=6,\n",
    ")\n",
    "group_chat_manager = GroupChatManager(\n",
    "    groupchat=group_chat,\n",
    "    llm_config=llm_config_dict,\n",
    ")\n",
    "\n",
    "chat_result = number_agent.initiate_chat(\n",
    "    group_chat_manager,\n",
    "    message=\"My number is 3, I want to turn it into 13.\",\n",
    "    summary_method=\"reflection_with_llm\",\n",
    ")"
   ]
  },
  {
   "cell_type": "code",
   "execution_count": 21,
   "metadata": {},
   "outputs": [
    {
     "name": "stdout",
     "output_type": "stream",
     "text": [
      "The number 3 was transformed into 13 by adding 4, multiplying by 8, dividing by 1.5, subtracting 2, and then adding 12, dividing by 6.5, subtracting 3, and subtracting 7.\n"
     ]
    }
   ],
   "source": [
    "print(chat_result.summary)"
   ]
  },
  {
   "cell_type": "markdown",
   "metadata": {},
   "source": [
    "If time and bandwidth permits,we can also do a combination of nested chat with group chat manager. "
   ]
  }
 ],
 "metadata": {
  "kernelspec": {
   "display_name": ".venv",
   "language": "python",
   "name": "python3"
  },
  "language_info": {
   "codemirror_mode": {
    "name": "ipython",
    "version": 3
   },
   "file_extension": ".py",
   "mimetype": "text/x-python",
   "name": "python",
   "nbconvert_exporter": "python",
   "pygments_lexer": "ipython3",
   "version": "3.12.5"
  }
 },
 "nbformat": 4,
 "nbformat_minor": 2
}
